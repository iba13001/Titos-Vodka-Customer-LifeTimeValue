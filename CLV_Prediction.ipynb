{
 "cells": [
  {
   "cell_type": "code",
   "execution_count": 2,
   "metadata": {},
   "outputs": [],
   "source": [
    "import pandas as pd\n",
    "import numpy as np\n",
    "import sqlite3\n",
    "import matplotlib.pyplot as plt"
   ]
  },
  {
   "cell_type": "code",
   "execution_count": 3,
   "metadata": {},
   "outputs": [],
   "source": [
    "import lifetimes"
   ]
  },
  {
   "cell_type": "code",
   "execution_count": 4,
   "metadata": {},
   "outputs": [],
   "source": [
    "import lifetimes.plotting"
   ]
  },
  {
   "cell_type": "code",
   "execution_count": 5,
   "metadata": {},
   "outputs": [],
   "source": [
    "from datetime import datetime"
   ]
  },
  {
   "cell_type": "code",
   "execution_count": 6,
   "metadata": {},
   "outputs": [],
   "source": [
    "from sklearn.metrics import mean_absolute_error,confusion_matrix"
   ]
  },
  {
   "cell_type": "code",
   "execution_count": 7,
   "metadata": {},
   "outputs": [],
   "source": [
    "import seaborn as sns"
   ]
  },
  {
   "cell_type": "code",
   "execution_count": 8,
   "metadata": {},
   "outputs": [
    {
     "data": {
      "text/html": [
       "<div>\n",
       "<style scoped>\n",
       "    .dataframe tbody tr th:only-of-type {\n",
       "        vertical-align: middle;\n",
       "    }\n",
       "\n",
       "    .dataframe tbody tr th {\n",
       "        vertical-align: top;\n",
       "    }\n",
       "\n",
       "    .dataframe thead th {\n",
       "        text-align: right;\n",
       "    }\n",
       "</style>\n",
       "<table border=\"1\" class=\"dataframe\">\n",
       "  <thead>\n",
       "    <tr style=\"text-align: right;\">\n",
       "      <th></th>\n",
       "      <th>Date</th>\n",
       "      <th>Coarse Category</th>\n",
       "      <th>Item Description</th>\n",
       "      <th>Sale (Dollars)</th>\n",
       "      <th>Volume Sold (Liters)</th>\n",
       "      <th>Invoice/Item Number</th>\n",
       "      <th>Store Number</th>\n",
       "      <th>Store Name</th>\n",
       "    </tr>\n",
       "  </thead>\n",
       "  <tbody>\n",
       "    <tr>\n",
       "      <th>0</th>\n",
       "      <td>2020-02-03 00:00:00</td>\n",
       "      <td>USVodka</td>\n",
       "      <td>titos handmade vodka</td>\n",
       "      <td>171.00</td>\n",
       "      <td>10.50</td>\n",
       "      <td>INV-24978400002</td>\n",
       "      <td>4116</td>\n",
       "      <td>lake view foods</td>\n",
       "    </tr>\n",
       "    <tr>\n",
       "      <th>1</th>\n",
       "      <td>2020-11-03 00:00:00</td>\n",
       "      <td>USVodka</td>\n",
       "      <td>titos handmade vodka</td>\n",
       "      <td>228.12</td>\n",
       "      <td>12.00</td>\n",
       "      <td>INV-31637100031</td>\n",
       "      <td>4019</td>\n",
       "      <td>wal mart 1506  manchester</td>\n",
       "    </tr>\n",
       "    <tr>\n",
       "      <th>2</th>\n",
       "      <td>2019-07-18 00:00:00</td>\n",
       "      <td>USVodka</td>\n",
       "      <td>titos handmade vodka</td>\n",
       "      <td>16.26</td>\n",
       "      <td>0.75</td>\n",
       "      <td>INV-20706400109</td>\n",
       "      <td>3456</td>\n",
       "      <td>quick shop  clear lake</td>\n",
       "    </tr>\n",
       "    <tr>\n",
       "      <th>3</th>\n",
       "      <td>2019-07-09 00:00:00</td>\n",
       "      <td>USVodka</td>\n",
       "      <td>titos handmade vodka</td>\n",
       "      <td>173.52</td>\n",
       "      <td>9.00</td>\n",
       "      <td>INV-20507500004</td>\n",
       "      <td>3742</td>\n",
       "      <td>wal mart 1625  lemars</td>\n",
       "    </tr>\n",
       "    <tr>\n",
       "      <th>4</th>\n",
       "      <td>2019-07-22 00:00:00</td>\n",
       "      <td>USVodka</td>\n",
       "      <td>titos handmade vodka</td>\n",
       "      <td>1735.20</td>\n",
       "      <td>90.00</td>\n",
       "      <td>INV-20748500037</td>\n",
       "      <td>2528</td>\n",
       "      <td>hy vee food store 3  des moines</td>\n",
       "    </tr>\n",
       "  </tbody>\n",
       "</table>\n",
       "</div>"
      ],
      "text/plain": [
       "                  Date Coarse Category      Item Description  Sale (Dollars)  \\\n",
       "0  2020-02-03 00:00:00         USVodka  titos handmade vodka          171.00   \n",
       "1  2020-11-03 00:00:00         USVodka  titos handmade vodka          228.12   \n",
       "2  2019-07-18 00:00:00         USVodka  titos handmade vodka           16.26   \n",
       "3  2019-07-09 00:00:00         USVodka  titos handmade vodka          173.52   \n",
       "4  2019-07-22 00:00:00         USVodka  titos handmade vodka         1735.20   \n",
       "\n",
       "   Volume Sold (Liters) Invoice/Item Number  Store Number  \\\n",
       "0                 10.50     INV-24978400002          4116   \n",
       "1                 12.00     INV-31637100031          4019   \n",
       "2                  0.75     INV-20706400109          3456   \n",
       "3                  9.00     INV-20507500004          3742   \n",
       "4                 90.00     INV-20748500037          2528   \n",
       "\n",
       "                        Store Name  \n",
       "0                  lake view foods  \n",
       "1        wal mart 1506  manchester  \n",
       "2           quick shop  clear lake  \n",
       "3            wal mart 1625  lemars  \n",
       "4  hy vee food store 3  des moines  "
      ]
     },
     "execution_count": 8,
     "metadata": {},
     "output_type": "execute_result"
    }
   ],
   "source": [
    "conn=sqlite3.connect(\"TitosTrans.sqlite\")\n",
    "TitosTrans=pd.read_sql('SELECT * FROM TitosTrans', conn)\n",
    "TitosTrans.head()"
   ]
  },
  {
   "cell_type": "code",
   "execution_count": 9,
   "metadata": {},
   "outputs": [],
   "source": [
    "TitosTrans['Date']= pd.to_datetime(TitosTrans['Date'])"
   ]
  },
  {
   "cell_type": "markdown",
   "metadata": {},
   "source": [
    "For CLV Predictions, we will use the time frame between 2018 and 2021"
   ]
  },
  {
   "cell_type": "code",
   "execution_count": 10,
   "metadata": {},
   "outputs": [
    {
     "data": {
      "text/plain": [
       "(141589, 8)"
      ]
     },
     "execution_count": 10,
     "metadata": {},
     "output_type": "execute_result"
    }
   ],
   "source": [
    "TitosTransCLV=TitosTrans[TitosTrans['Date'] >= '2018-01-01']\n",
    "TitosTransCLV.shape"
   ]
  },
  {
   "cell_type": "code",
   "execution_count": 11,
   "metadata": {},
   "outputs": [
    {
     "data": {
      "text/plain": [
       "Timestamp('2021-01-29 00:00:00')"
      ]
     },
     "execution_count": 11,
     "metadata": {},
     "output_type": "execute_result"
    }
   ],
   "source": [
    "max(TitosTransCLV.Date)"
   ]
  },
  {
   "cell_type": "code",
   "execution_count": 12,
   "metadata": {},
   "outputs": [
    {
     "data": {
      "text/plain": [
       "Timestamp('2018-01-02 00:00:00')"
      ]
     },
     "execution_count": 12,
     "metadata": {},
     "output_type": "execute_result"
    }
   ],
   "source": [
    "min(TitosTransCLV.Date)"
   ]
  },
  {
   "cell_type": "markdown",
   "metadata": {},
   "source": [
    "Divide into train and validation sets. Train set contains about 6 inter-purchase periods (2 years). Validation set is half the period of the train set (1 year)."
   ]
  },
  {
   "cell_type": "code",
   "execution_count": 13,
   "metadata": {},
   "outputs": [
    {
     "data": {
      "text/plain": [
       "(82407, 8)"
      ]
     },
     "execution_count": 13,
     "metadata": {},
     "output_type": "execute_result"
    }
   ],
   "source": [
    "train=TitosTransCLV[TitosTransCLV['Date'] < '2020-01-01']\n",
    "train.shape"
   ]
  },
  {
   "cell_type": "code",
   "execution_count": 14,
   "metadata": {},
   "outputs": [
    {
     "data": {
      "text/plain": [
       "(59182, 8)"
      ]
     },
     "execution_count": 14,
     "metadata": {},
     "output_type": "execute_result"
    }
   ],
   "source": [
    "test=TitosTransCLV[TitosTransCLV['Date'] >= '2020-01-01']\n",
    "test.shape"
   ]
  },
  {
   "cell_type": "markdown",
   "metadata": {},
   "source": [
    "Beta Geometry/Negative Binomial Distribution (BG/NBD) is a probabilistic prediction model that fits the distribution of the customer transaction data and then predict the probability of the life of a customer, number of transactions and sales."
   ]
  },
  {
   "cell_type": "markdown",
   "metadata": {},
   "source": [
    "- When a user is active, a number of his or her transactions in a time period of length t is described by Poisson distribution with transaction rate λ.\n",
    "- Heterogeneity in transaction rate across users (meaning how customers differ in purchasing behavior) has Gamma distribution with parameters r (shape) and α (scale).\n",
    "- Users may become inactive after any transaction with probability p and their dropout point (when they become inactive) is distributed between purchases with Geometric distribution.\n",
    "- Heterogeneity (variation across users) in dropout probability has Beta distribution with the two shape parameters α and β."
   ]
  },
  {
   "cell_type": "markdown",
   "metadata": {},
   "source": [
    "Create an RFM table. Recency definition is different that the definition we used earlier. In BG/NBD model, it is the period between the first transaction and the last transaction made by a customer."
   ]
  },
  {
   "cell_type": "markdown",
   "metadata": {},
   "source": [
    "- frequency — the number of repeat purchases (more than 1 purchases)\n",
    "- recency — the time between the first and the last transaction\n",
    "- T — the time between the first purchase and the end of the transaction period (last date of the time frame considered for the analysis)\n",
    "- monetary_value — it is the mean of a given customers sales value"
   ]
  },
  {
   "cell_type": "code",
   "execution_count": 15,
   "metadata": {},
   "outputs": [
    {
     "data": {
      "text/html": [
       "<div>\n",
       "<style scoped>\n",
       "    .dataframe tbody tr th:only-of-type {\n",
       "        vertical-align: middle;\n",
       "    }\n",
       "\n",
       "    .dataframe tbody tr th {\n",
       "        vertical-align: top;\n",
       "    }\n",
       "\n",
       "    .dataframe thead th {\n",
       "        text-align: right;\n",
       "    }\n",
       "</style>\n",
       "<table border=\"1\" class=\"dataframe\">\n",
       "  <thead>\n",
       "    <tr style=\"text-align: right;\">\n",
       "      <th></th>\n",
       "      <th>Store Number</th>\n",
       "      <th>frequency</th>\n",
       "      <th>recency</th>\n",
       "      <th>T</th>\n",
       "      <th>monetary_value</th>\n",
       "    </tr>\n",
       "  </thead>\n",
       "  <tbody>\n",
       "    <tr>\n",
       "      <th>0</th>\n",
       "      <td>2106</td>\n",
       "      <td>98.0</td>\n",
       "      <td>722.0</td>\n",
       "      <td>726.0</td>\n",
       "      <td>1120.656327</td>\n",
       "    </tr>\n",
       "    <tr>\n",
       "      <th>1</th>\n",
       "      <td>2113</td>\n",
       "      <td>73.0</td>\n",
       "      <td>727.0</td>\n",
       "      <td>728.0</td>\n",
       "      <td>105.920959</td>\n",
       "    </tr>\n",
       "    <tr>\n",
       "      <th>2</th>\n",
       "      <td>2130</td>\n",
       "      <td>99.0</td>\n",
       "      <td>722.0</td>\n",
       "      <td>726.0</td>\n",
       "      <td>936.481616</td>\n",
       "    </tr>\n",
       "    <tr>\n",
       "      <th>3</th>\n",
       "      <td>2178</td>\n",
       "      <td>60.0</td>\n",
       "      <td>693.0</td>\n",
       "      <td>704.0</td>\n",
       "      <td>342.230000</td>\n",
       "    </tr>\n",
       "    <tr>\n",
       "      <th>4</th>\n",
       "      <td>2190</td>\n",
       "      <td>172.0</td>\n",
       "      <td>722.0</td>\n",
       "      <td>726.0</td>\n",
       "      <td>230.643140</td>\n",
       "    </tr>\n",
       "  </tbody>\n",
       "</table>\n",
       "</div>"
      ],
      "text/plain": [
       "   Store Number  frequency  recency      T  monetary_value\n",
       "0          2106       98.0    722.0  726.0     1120.656327\n",
       "1          2113       73.0    727.0  728.0      105.920959\n",
       "2          2130       99.0    722.0  726.0      936.481616\n",
       "3          2178       60.0    693.0  704.0      342.230000\n",
       "4          2190      172.0    722.0  726.0      230.643140"
      ]
     },
     "execution_count": 15,
     "metadata": {},
     "output_type": "execute_result"
    }
   ],
   "source": [
    "summary=lifetimes.utils.summary_data_from_transaction_data(train,'Store Number','Date','Sale (Dollars)').reset_index()\n",
    "summary.head()"
   ]
  },
  {
   "cell_type": "code",
   "execution_count": 16,
   "metadata": {},
   "outputs": [],
   "source": [
    "# exclude all the stores that are listed but made zero transactions\n",
    "summary=summary[summary['frequency']>0]"
   ]
  },
  {
   "cell_type": "markdown",
   "metadata": {},
   "source": [
    "Lets look at the frequency distribution"
   ]
  },
  {
   "cell_type": "code",
   "execution_count": 17,
   "metadata": {},
   "outputs": [
    {
     "data": {
      "text/plain": [
       "<AxesSubplot:ylabel='Frequency'>"
      ]
     },
     "execution_count": 17,
     "metadata": {},
     "output_type": "execute_result"
    },
    {
     "data": {
      "image/png": "[encoded data removed]",
      "text/plain": [
       "<Figure size 432x288 with 1 Axes>"
      ]
     },
     "metadata": {
      "needs_background": "light"
     },
     "output_type": "display_data"
    }
   ],
   "source": [
    "summary['frequency'].plot(kind='hist',bins=50)"
   ]
  },
  {
   "cell_type": "code",
   "execution_count": 18,
   "metadata": {},
   "outputs": [
    {
     "data": {
      "text/plain": [
       "count    1562.000000\n",
       "mean       34.289373\n",
       "std        30.153496\n",
       "min         1.000000\n",
       "25%        10.000000\n",
       "50%        25.000000\n",
       "75%        53.750000\n",
       "max       254.000000\n",
       "Name: frequency, dtype: float64"
      ]
     },
     "execution_count": 18,
     "metadata": {},
     "output_type": "execute_result"
    }
   ],
   "source": [
    "summary['frequency'].describe()"
   ]
  },
  {
   "cell_type": "markdown",
   "metadata": {},
   "source": [
    "Fit BG/NBD model on the summary data."
   ]
  },
  {
   "cell_type": "code",
   "execution_count": 19,
   "metadata": {},
   "outputs": [
    {
     "data": {
      "text/plain": [
       "<lifetimes.BetaGeoFitter: fitted with 1562 subjects, a: 0.03, alpha: 33.05, b: 6.46, r: 1.78>"
      ]
     },
     "execution_count": 19,
     "metadata": {},
     "output_type": "execute_result"
    }
   ],
   "source": [
    "bgf=lifetimes.BetaGeoFitter(penalizer_coef=0)\n",
    "bgf.fit(summary['frequency'],summary['recency'],summary['T'])"
   ]
  },
  {
   "cell_type": "markdown",
   "metadata": {},
   "source": [
    "- r and alpha are the paramters of the fitted Gamma distribution that fits the distribution of the transaction rates.\n",
    "- a and b are the parameters for the fitted Beta distribution that fits the distribution of the difference in the dropout probability across customers."
   ]
  },
  {
   "cell_type": "code",
   "execution_count": 20,
   "metadata": {},
   "outputs": [
    {
     "data": {
      "text/html": [
       "<div>\n",
       "<style scoped>\n",
       "    .dataframe tbody tr th:only-of-type {\n",
       "        vertical-align: middle;\n",
       "    }\n",
       "\n",
       "    .dataframe tbody tr th {\n",
       "        vertical-align: top;\n",
       "    }\n",
       "\n",
       "    .dataframe thead th {\n",
       "        text-align: right;\n",
       "    }\n",
       "</style>\n",
       "<table border=\"1\" class=\"dataframe\">\n",
       "  <thead>\n",
       "    <tr style=\"text-align: right;\">\n",
       "      <th></th>\n",
       "      <th>coef</th>\n",
       "      <th>se(coef)</th>\n",
       "      <th>lower 95% bound</th>\n",
       "      <th>upper 95% bound</th>\n",
       "    </tr>\n",
       "  </thead>\n",
       "  <tbody>\n",
       "    <tr>\n",
       "      <th>r</th>\n",
       "      <td>1.778693</td>\n",
       "      <td>0.066912</td>\n",
       "      <td>1.647545</td>\n",
       "      <td>1.909840</td>\n",
       "    </tr>\n",
       "    <tr>\n",
       "      <th>alpha</th>\n",
       "      <td>33.052068</td>\n",
       "      <td>1.388697</td>\n",
       "      <td>30.330222</td>\n",
       "      <td>35.773915</td>\n",
       "    </tr>\n",
       "    <tr>\n",
       "      <th>a</th>\n",
       "      <td>0.033060</td>\n",
       "      <td>0.008063</td>\n",
       "      <td>0.017256</td>\n",
       "      <td>0.048863</td>\n",
       "    </tr>\n",
       "    <tr>\n",
       "      <th>b</th>\n",
       "      <td>6.459003</td>\n",
       "      <td>2.955763</td>\n",
       "      <td>0.665708</td>\n",
       "      <td>12.252299</td>\n",
       "    </tr>\n",
       "  </tbody>\n",
       "</table>\n",
       "</div>"
      ],
      "text/plain": [
       "            coef  se(coef)  lower 95% bound  upper 95% bound\n",
       "r       1.778693  0.066912         1.647545         1.909840\n",
       "alpha  33.052068  1.388697        30.330222        35.773915\n",
       "a       0.033060  0.008063         0.017256         0.048863\n",
       "b       6.459003  2.955763         0.665708        12.252299"
      ]
     },
     "execution_count": 20,
     "metadata": {},
     "output_type": "execute_result"
    }
   ],
   "source": [
    "bgf.summary"
   ]
  },
  {
   "cell_type": "code",
   "execution_count": 21,
   "metadata": {},
   "outputs": [
    {
     "data": {
      "text/html": [
       "<div>\n",
       "<style scoped>\n",
       "    .dataframe tbody tr th:only-of-type {\n",
       "        vertical-align: middle;\n",
       "    }\n",
       "\n",
       "    .dataframe tbody tr th {\n",
       "        vertical-align: top;\n",
       "    }\n",
       "\n",
       "    .dataframe thead th {\n",
       "        text-align: right;\n",
       "    }\n",
       "</style>\n",
       "<table border=\"1\" class=\"dataframe\">\n",
       "  <thead>\n",
       "    <tr style=\"text-align: right;\">\n",
       "      <th></th>\n",
       "      <th>Store Number</th>\n",
       "      <th>frequency</th>\n",
       "      <th>recency</th>\n",
       "      <th>T</th>\n",
       "      <th>monetary_value</th>\n",
       "      <th>p_alive</th>\n",
       "    </tr>\n",
       "  </thead>\n",
       "  <tbody>\n",
       "    <tr>\n",
       "      <th>0</th>\n",
       "      <td>2106</td>\n",
       "      <td>98.0</td>\n",
       "      <td>722.0</td>\n",
       "      <td>726.0</td>\n",
       "      <td>1120.656327</td>\n",
       "      <td>0.999459</td>\n",
       "    </tr>\n",
       "    <tr>\n",
       "      <th>1</th>\n",
       "      <td>2113</td>\n",
       "      <td>73.0</td>\n",
       "      <td>727.0</td>\n",
       "      <td>728.0</td>\n",
       "      <td>105.920959</td>\n",
       "      <td>0.999535</td>\n",
       "    </tr>\n",
       "    <tr>\n",
       "      <th>2</th>\n",
       "      <td>2130</td>\n",
       "      <td>99.0</td>\n",
       "      <td>722.0</td>\n",
       "      <td>726.0</td>\n",
       "      <td>936.481616</td>\n",
       "      <td>0.999461</td>\n",
       "    </tr>\n",
       "    <tr>\n",
       "      <th>3</th>\n",
       "      <td>2178</td>\n",
       "      <td>60.0</td>\n",
       "      <td>693.0</td>\n",
       "      <td>704.0</td>\n",
       "      <td>342.230000</td>\n",
       "      <td>0.998723</td>\n",
       "    </tr>\n",
       "    <tr>\n",
       "      <th>4</th>\n",
       "      <td>2190</td>\n",
       "      <td>172.0</td>\n",
       "      <td>722.0</td>\n",
       "      <td>726.0</td>\n",
       "      <td>230.643140</td>\n",
       "      <td>0.999534</td>\n",
       "    </tr>\n",
       "  </tbody>\n",
       "</table>\n",
       "</div>"
      ],
      "text/plain": [
       "   Store Number  frequency  recency      T  monetary_value   p_alive\n",
       "0          2106       98.0    722.0  726.0     1120.656327  0.999459\n",
       "1          2113       73.0    727.0  728.0      105.920959  0.999535\n",
       "2          2130       99.0    722.0  726.0      936.481616  0.999461\n",
       "3          2178       60.0    693.0  704.0      342.230000  0.998723\n",
       "4          2190      172.0    722.0  726.0      230.643140  0.999534"
      ]
     },
     "execution_count": 21,
     "metadata": {},
     "output_type": "execute_result"
    }
   ],
   "source": [
    "# predict the alive probability\n",
    "summary['p_alive']=bgf.conditional_probability_alive(summary['frequency'],summary['recency'],summary['T'])\n",
    "summary.head()"
   ]
  },
  {
   "cell_type": "code",
   "execution_count": 22,
   "metadata": {},
   "outputs": [
    {
     "data": {
      "text/plain": [
       "<AxesSubplot:title={'center':'Probability Customer is Alive,\\nby Frequency and Recency of a Customer'}, xlabel=\"Customer's Historical Frequency\", ylabel=\"Customer's Recency\">"
      ]
     },
     "execution_count": 22,
     "metadata": {},
     "output_type": "execute_result"
    },
    {
     "data": {
      "image/png": "[encoded data removed]",
      "text/plain": [
       "<Figure size 576x576 with 2 Axes>"
      ]
     },
     "metadata": {
      "needs_background": "light"
     },
     "output_type": "display_data"
    }
   ],
   "source": [
    "# now we can plot the probability\n",
    "plt.rcParams['figure.figsize'] = (8,8)\n",
    "lifetimes.plotting.plot_probability_alive_matrix(bgf)"
   ]
  },
  {
   "cell_type": "code",
   "execution_count": 23,
   "metadata": {},
   "outputs": [
    {
     "data": {
      "text/html": [
       "<div>\n",
       "<style scoped>\n",
       "    .dataframe tbody tr th:only-of-type {\n",
       "        vertical-align: middle;\n",
       "    }\n",
       "\n",
       "    .dataframe tbody tr th {\n",
       "        vertical-align: top;\n",
       "    }\n",
       "\n",
       "    .dataframe thead th {\n",
       "        text-align: right;\n",
       "    }\n",
       "</style>\n",
       "<table border=\"1\" class=\"dataframe\">\n",
       "  <thead>\n",
       "    <tr style=\"text-align: right;\">\n",
       "      <th></th>\n",
       "      <th>Store Number</th>\n",
       "      <th>frequency</th>\n",
       "      <th>recency</th>\n",
       "      <th>T</th>\n",
       "      <th>monetary_value</th>\n",
       "      <th>p_alive</th>\n",
       "      <th>pred_frequency</th>\n",
       "    </tr>\n",
       "  </thead>\n",
       "  <tbody>\n",
       "    <tr>\n",
       "      <th>0</th>\n",
       "      <td>2106</td>\n",
       "      <td>98.0</td>\n",
       "      <td>722.0</td>\n",
       "      <td>726.0</td>\n",
       "      <td>1120.656327</td>\n",
       "      <td>0.999459</td>\n",
       "      <td>51.394953</td>\n",
       "    </tr>\n",
       "    <tr>\n",
       "      <th>1</th>\n",
       "      <td>2113</td>\n",
       "      <td>73.0</td>\n",
       "      <td>727.0</td>\n",
       "      <td>728.0</td>\n",
       "      <td>105.920959</td>\n",
       "      <td>0.999535</td>\n",
       "      <td>38.422847</td>\n",
       "    </tr>\n",
       "    <tr>\n",
       "      <th>2</th>\n",
       "      <td>2130</td>\n",
       "      <td>99.0</td>\n",
       "      <td>722.0</td>\n",
       "      <td>726.0</td>\n",
       "      <td>936.481616</td>\n",
       "      <td>0.999461</td>\n",
       "      <td>51.910051</td>\n",
       "    </tr>\n",
       "    <tr>\n",
       "      <th>3</th>\n",
       "      <td>2178</td>\n",
       "      <td>60.0</td>\n",
       "      <td>693.0</td>\n",
       "      <td>704.0</td>\n",
       "      <td>342.230000</td>\n",
       "      <td>0.998723</td>\n",
       "      <td>32.745597</td>\n",
       "    </tr>\n",
       "    <tr>\n",
       "      <th>4</th>\n",
       "      <td>2190</td>\n",
       "      <td>172.0</td>\n",
       "      <td>722.0</td>\n",
       "      <td>726.0</td>\n",
       "      <td>230.643140</td>\n",
       "      <td>0.999534</td>\n",
       "      <td>89.509722</td>\n",
       "    </tr>\n",
       "  </tbody>\n",
       "</table>\n",
       "</div>"
      ],
      "text/plain": [
       "   Store Number  frequency  recency      T  monetary_value   p_alive  \\\n",
       "0          2106       98.0    722.0  726.0     1120.656327  0.999459   \n",
       "1          2113       73.0    727.0  728.0      105.920959  0.999535   \n",
       "2          2130       99.0    722.0  726.0      936.481616  0.999461   \n",
       "3          2178       60.0    693.0  704.0      342.230000  0.998723   \n",
       "4          2190      172.0    722.0  726.0      230.643140  0.999534   \n",
       "\n",
       "   pred_frequency  \n",
       "0       51.394953  \n",
       "1       38.422847  \n",
       "2       51.910051  \n",
       "3       32.745597  \n",
       "4       89.509722  "
      ]
     },
     "execution_count": 23,
     "metadata": {},
     "output_type": "execute_result"
    }
   ],
   "source": [
    "# predict the future number of transaction from 1/1/2020 until 1/29/2021\n",
    "t=(datetime(2021,1,29)-datetime(2020,1,1)).days\n",
    "summary['pred_frequency']=bgf.conditional_expected_number_of_purchases_up_to_time(t,summary['frequency'],summary['recency'],summary['T'])\n",
    "summary.head()"
   ]
  },
  {
   "cell_type": "markdown",
   "metadata": {},
   "source": [
    "Now lets get the frequency in the test dataset and compare with the predicted frequency"
   ]
  },
  {
   "cell_type": "code",
   "execution_count": 24,
   "metadata": {},
   "outputs": [
    {
     "data": {
      "text/html": [
       "<div>\n",
       "<style scoped>\n",
       "    .dataframe tbody tr th:only-of-type {\n",
       "        vertical-align: middle;\n",
       "    }\n",
       "\n",
       "    .dataframe tbody tr th {\n",
       "        vertical-align: top;\n",
       "    }\n",
       "\n",
       "    .dataframe thead th {\n",
       "        text-align: right;\n",
       "    }\n",
       "</style>\n",
       "<table border=\"1\" class=\"dataframe\">\n",
       "  <thead>\n",
       "    <tr style=\"text-align: right;\">\n",
       "      <th></th>\n",
       "      <th>Store Number</th>\n",
       "      <th>frequency</th>\n",
       "      <th>recency</th>\n",
       "      <th>T</th>\n",
       "      <th>monetary_value</th>\n",
       "    </tr>\n",
       "  </thead>\n",
       "  <tbody>\n",
       "    <tr>\n",
       "      <th>0</th>\n",
       "      <td>2106</td>\n",
       "      <td>48.0</td>\n",
       "      <td>391.0</td>\n",
       "      <td>392.0</td>\n",
       "      <td>1118.700000</td>\n",
       "    </tr>\n",
       "    <tr>\n",
       "      <th>1</th>\n",
       "      <td>2113</td>\n",
       "      <td>1.0</td>\n",
       "      <td>7.0</td>\n",
       "      <td>375.0</td>\n",
       "      <td>228.120000</td>\n",
       "    </tr>\n",
       "    <tr>\n",
       "      <th>2</th>\n",
       "      <td>2130</td>\n",
       "      <td>47.0</td>\n",
       "      <td>391.0</td>\n",
       "      <td>392.0</td>\n",
       "      <td>1208.800851</td>\n",
       "    </tr>\n",
       "    <tr>\n",
       "      <th>3</th>\n",
       "      <td>2178</td>\n",
       "      <td>39.0</td>\n",
       "      <td>364.0</td>\n",
       "      <td>385.0</td>\n",
       "      <td>392.141538</td>\n",
       "    </tr>\n",
       "    <tr>\n",
       "      <th>4</th>\n",
       "      <td>2190</td>\n",
       "      <td>119.0</td>\n",
       "      <td>382.0</td>\n",
       "      <td>382.0</td>\n",
       "      <td>239.025882</td>\n",
       "    </tr>\n",
       "  </tbody>\n",
       "</table>\n",
       "</div>"
      ],
      "text/plain": [
       "   Store Number  frequency  recency      T  monetary_value\n",
       "0          2106       48.0    391.0  392.0     1118.700000\n",
       "1          2113        1.0      7.0  375.0      228.120000\n",
       "2          2130       47.0    391.0  392.0     1208.800851\n",
       "3          2178       39.0    364.0  385.0      392.141538\n",
       "4          2190      119.0    382.0  382.0      239.025882"
      ]
     },
     "execution_count": 24,
     "metadata": {},
     "output_type": "execute_result"
    }
   ],
   "source": [
    "summary_test=lifetimes.utils.summary_data_from_transaction_data(test,'Store Number','Date','Sale (Dollars)').reset_index()\n",
    "summary_test.head()"
   ]
  },
  {
   "cell_type": "code",
   "execution_count": 25,
   "metadata": {},
   "outputs": [
    {
     "data": {
      "text/plain": [
       "(1562, 7)"
      ]
     },
     "execution_count": 25,
     "metadata": {},
     "output_type": "execute_result"
    }
   ],
   "source": [
    "summary.shape"
   ]
  },
  {
   "cell_type": "code",
   "execution_count": 26,
   "metadata": {},
   "outputs": [
    {
     "data": {
      "text/plain": [
       "(1783, 5)"
      ]
     },
     "execution_count": 26,
     "metadata": {},
     "output_type": "execute_result"
    }
   ],
   "source": [
    "summary_test.shape"
   ]
  },
  {
   "cell_type": "code",
   "execution_count": 27,
   "metadata": {},
   "outputs": [
    {
     "data": {
      "text/html": [
       "<div>\n",
       "<style scoped>\n",
       "    .dataframe tbody tr th:only-of-type {\n",
       "        vertical-align: middle;\n",
       "    }\n",
       "\n",
       "    .dataframe tbody tr th {\n",
       "        vertical-align: top;\n",
       "    }\n",
       "\n",
       "    .dataframe thead th {\n",
       "        text-align: right;\n",
       "    }\n",
       "</style>\n",
       "<table border=\"1\" class=\"dataframe\">\n",
       "  <thead>\n",
       "    <tr style=\"text-align: right;\">\n",
       "      <th></th>\n",
       "      <th>Store Number</th>\n",
       "      <th>pred_frequency</th>\n",
       "      <th>p_alive</th>\n",
       "      <th>actual_frequency</th>\n",
       "    </tr>\n",
       "  </thead>\n",
       "  <tbody>\n",
       "    <tr>\n",
       "      <th>0</th>\n",
       "      <td>2106</td>\n",
       "      <td>51.394953</td>\n",
       "      <td>0.999459</td>\n",
       "      <td>48.0</td>\n",
       "    </tr>\n",
       "    <tr>\n",
       "      <th>1</th>\n",
       "      <td>2113</td>\n",
       "      <td>38.422847</td>\n",
       "      <td>0.999535</td>\n",
       "      <td>1.0</td>\n",
       "    </tr>\n",
       "    <tr>\n",
       "      <th>2</th>\n",
       "      <td>2130</td>\n",
       "      <td>51.910051</td>\n",
       "      <td>0.999461</td>\n",
       "      <td>47.0</td>\n",
       "    </tr>\n",
       "    <tr>\n",
       "      <th>3</th>\n",
       "      <td>2178</td>\n",
       "      <td>32.745597</td>\n",
       "      <td>0.998723</td>\n",
       "      <td>39.0</td>\n",
       "    </tr>\n",
       "    <tr>\n",
       "      <th>4</th>\n",
       "      <td>2190</td>\n",
       "      <td>89.509722</td>\n",
       "      <td>0.999534</td>\n",
       "      <td>119.0</td>\n",
       "    </tr>\n",
       "  </tbody>\n",
       "</table>\n",
       "</div>"
      ],
      "text/plain": [
       "   Store Number  pred_frequency   p_alive  actual_frequency\n",
       "0          2106       51.394953  0.999459              48.0\n",
       "1          2113       38.422847  0.999535               1.0\n",
       "2          2130       51.910051  0.999461              47.0\n",
       "3          2178       32.745597  0.998723              39.0\n",
       "4          2190       89.509722  0.999534             119.0"
      ]
     },
     "execution_count": 27,
     "metadata": {},
     "output_type": "execute_result"
    }
   ],
   "source": [
    "freq = pd.merge(summary[['Store Number','pred_frequency','p_alive']],summary_test[['Store Number','frequency']],on=['Store Number'],how='left')\n",
    "freq.rename(columns={'frequency':'actual_frequency'},inplace=True)\n",
    "freq.head()"
   ]
  },
  {
   "cell_type": "code",
   "execution_count": 28,
   "metadata": {},
   "outputs": [
    {
     "data": {
      "text/plain": [
       "(1562, 4)"
      ]
     },
     "execution_count": 28,
     "metadata": {},
     "output_type": "execute_result"
    }
   ],
   "source": [
    "freq.shape"
   ]
  },
  {
   "cell_type": "code",
   "execution_count": 29,
   "metadata": {},
   "outputs": [
    {
     "data": {
      "text/plain": [
       "127"
      ]
     },
     "execution_count": 29,
     "metadata": {},
     "output_type": "execute_result"
    }
   ],
   "source": [
    "# there are 144 stores that didn't make any transactions in the validation year of 2020\n",
    "freq['actual_frequency'].isna().sum()"
   ]
  },
  {
   "cell_type": "code",
   "execution_count": 30,
   "metadata": {},
   "outputs": [
    {
     "data": {
      "text/html": [
       "<div>\n",
       "<style scoped>\n",
       "    .dataframe tbody tr th:only-of-type {\n",
       "        vertical-align: middle;\n",
       "    }\n",
       "\n",
       "    .dataframe tbody tr th {\n",
       "        vertical-align: top;\n",
       "    }\n",
       "\n",
       "    .dataframe thead th {\n",
       "        text-align: right;\n",
       "    }\n",
       "</style>\n",
       "<table border=\"1\" class=\"dataframe\">\n",
       "  <thead>\n",
       "    <tr style=\"text-align: right;\">\n",
       "      <th></th>\n",
       "      <th>Store Number</th>\n",
       "      <th>pred_frequency</th>\n",
       "      <th>p_alive</th>\n",
       "      <th>actual_frequency</th>\n",
       "    </tr>\n",
       "  </thead>\n",
       "  <tbody>\n",
       "    <tr>\n",
       "      <th>12</th>\n",
       "      <td>2327</td>\n",
       "      <td>1.028291e-03</td>\n",
       "      <td>1.011579e-04</td>\n",
       "      <td>NaN</td>\n",
       "    </tr>\n",
       "    <tr>\n",
       "      <th>13</th>\n",
       "      <td>2448</td>\n",
       "      <td>2.527257e-10</td>\n",
       "      <td>1.194303e-11</td>\n",
       "      <td>NaN</td>\n",
       "    </tr>\n",
       "    <tr>\n",
       "      <th>16</th>\n",
       "      <td>2475</td>\n",
       "      <td>1.698506e+00</td>\n",
       "      <td>1.621394e-01</td>\n",
       "      <td>NaN</td>\n",
       "    </tr>\n",
       "    <tr>\n",
       "      <th>61</th>\n",
       "      <td>2564</td>\n",
       "      <td>8.613926e-05</td>\n",
       "      <td>2.467338e-05</td>\n",
       "      <td>NaN</td>\n",
       "    </tr>\n",
       "    <tr>\n",
       "      <th>184</th>\n",
       "      <td>3013</td>\n",
       "      <td>1.273474e+01</td>\n",
       "      <td>8.119434e-01</td>\n",
       "      <td>NaN</td>\n",
       "    </tr>\n",
       "    <tr>\n",
       "      <th>...</th>\n",
       "      <td>...</td>\n",
       "      <td>...</td>\n",
       "      <td>...</td>\n",
       "      <td>...</td>\n",
       "    </tr>\n",
       "    <tr>\n",
       "      <th>1451</th>\n",
       "      <td>5707</td>\n",
       "      <td>8.753339e+00</td>\n",
       "      <td>9.740863e-01</td>\n",
       "      <td>NaN</td>\n",
       "    </tr>\n",
       "    <tr>\n",
       "      <th>1472</th>\n",
       "      <td>5729</td>\n",
       "      <td>4.060711e+00</td>\n",
       "      <td>8.888603e-01</td>\n",
       "      <td>NaN</td>\n",
       "    </tr>\n",
       "    <tr>\n",
       "      <th>1475</th>\n",
       "      <td>5732</td>\n",
       "      <td>3.813354e+01</td>\n",
       "      <td>9.985415e-01</td>\n",
       "      <td>NaN</td>\n",
       "    </tr>\n",
       "    <tr>\n",
       "      <th>1483</th>\n",
       "      <td>5742</td>\n",
       "      <td>4.151094e+00</td>\n",
       "      <td>8.934466e-01</td>\n",
       "      <td>NaN</td>\n",
       "    </tr>\n",
       "    <tr>\n",
       "      <th>1561</th>\n",
       "      <td>9911</td>\n",
       "      <td>3.767265e-02</td>\n",
       "      <td>1.289738e-02</td>\n",
       "      <td>NaN</td>\n",
       "    </tr>\n",
       "  </tbody>\n",
       "</table>\n",
       "<p>127 rows × 4 columns</p>\n",
       "</div>"
      ],
      "text/plain": [
       "      Store Number  pred_frequency       p_alive  actual_frequency\n",
       "12            2327    1.028291e-03  1.011579e-04               NaN\n",
       "13            2448    2.527257e-10  1.194303e-11               NaN\n",
       "16            2475    1.698506e+00  1.621394e-01               NaN\n",
       "61            2564    8.613926e-05  2.467338e-05               NaN\n",
       "184           3013    1.273474e+01  8.119434e-01               NaN\n",
       "...            ...             ...           ...               ...\n",
       "1451          5707    8.753339e+00  9.740863e-01               NaN\n",
       "1472          5729    4.060711e+00  8.888603e-01               NaN\n",
       "1475          5732    3.813354e+01  9.985415e-01               NaN\n",
       "1483          5742    4.151094e+00  8.934466e-01               NaN\n",
       "1561          9911    3.767265e-02  1.289738e-02               NaN\n",
       "\n",
       "[127 rows x 4 columns]"
      ]
     },
     "execution_count": 30,
     "metadata": {},
     "output_type": "execute_result"
    }
   ],
   "source": [
    "#There are 144 stores without any actual transactions in the \n",
    "freq[freq['actual_frequency'].isna()]"
   ]
  },
  {
   "cell_type": "code",
   "execution_count": 31,
   "metadata": {},
   "outputs": [],
   "source": [
    "#The actual frequency will be filled as zero\n",
    "freq.fillna(0,inplace=True)"
   ]
  },
  {
   "cell_type": "code",
   "execution_count": 32,
   "metadata": {},
   "outputs": [
    {
     "data": {
      "text/plain": [
       "Text(0, 0.5, 'Actual Transactions')"
      ]
     },
     "execution_count": 32,
     "metadata": {},
     "output_type": "execute_result"
    },
    {
     "data": {
      "image/png": "[encoded data removed]",
      "text/plain": [
       "<Figure size 720x360 with 1 Axes>"
      ]
     },
     "metadata": {
      "needs_background": "light"
     },
     "output_type": "display_data"
    }
   ],
   "source": [
    "# actual vs. predicted\n",
    "plt.rcParams['figure.figsize'] = (10,5)\n",
    "plt.plot(freq['pred_frequency'],freq['actual_frequency'],'o')\n",
    "plt.plot([0,130],[0,130],'r')\n",
    "plt.xlabel('Predicted Transactions')\n",
    "plt.ylabel('Actual Transactions')"
   ]
  },
  {
   "cell_type": "code",
   "execution_count": 33,
   "metadata": {},
   "outputs": [
    {
     "name": "stdout",
     "output_type": "stream",
     "text": [
      "The MAE is 6.183192685554606 transactions\n"
     ]
    }
   ],
   "source": [
    "mae=mean_absolute_error(freq['actual_frequency'], freq['pred_frequency'])\n",
    "print('The MAE is',mae, 'transactions')"
   ]
  },
  {
   "cell_type": "code",
   "execution_count": 34,
   "metadata": {},
   "outputs": [
    {
     "data": {
      "text/plain": [
       "21.420614596670934"
      ]
     },
     "execution_count": 34,
     "metadata": {},
     "output_type": "execute_result"
    }
   ],
   "source": [
    "freq['actual_frequency'].mean()"
   ]
  },
  {
   "cell_type": "code",
   "execution_count": 35,
   "metadata": {},
   "outputs": [
    {
     "data": {
      "text/plain": [
       "Text(0.5, 1.0, 'Validation Period 2020')"
      ]
     },
     "execution_count": 35,
     "metadata": {},
     "output_type": "execute_result"
    },
    {
     "data": {
      "image/png": "[encoded data removed]",
      "text/plain": [
       "<Figure size 720x360 with 1 Axes>"
      ]
     },
     "metadata": {
      "needs_background": "light"
     },
     "output_type": "display_data"
    }
   ],
   "source": [
    "plt.plot(freq['p_alive'],freq['pred_frequency'],'o')\n",
    "plt.xlabel('Predicted Alive Probability')\n",
    "plt.ylabel('Actual Transactions')\n",
    "plt.title('Validation Period 2020')"
   ]
  },
  {
   "cell_type": "code",
   "execution_count": 36,
   "metadata": {},
   "outputs": [
    {
     "data": {
      "text/html": [
       "<div>\n",
       "<style scoped>\n",
       "    .dataframe tbody tr th:only-of-type {\n",
       "        vertical-align: middle;\n",
       "    }\n",
       "\n",
       "    .dataframe tbody tr th {\n",
       "        vertical-align: top;\n",
       "    }\n",
       "\n",
       "    .dataframe thead th {\n",
       "        text-align: right;\n",
       "    }\n",
       "</style>\n",
       "<table border=\"1\" class=\"dataframe\">\n",
       "  <thead>\n",
       "    <tr style=\"text-align: right;\">\n",
       "      <th></th>\n",
       "      <th>Store Number</th>\n",
       "      <th>Recency</th>\n",
       "      <th>Frequency</th>\n",
       "      <th>Sales</th>\n",
       "      <th>Store Segment</th>\n",
       "    </tr>\n",
       "  </thead>\n",
       "  <tbody>\n",
       "    <tr>\n",
       "      <th>0</th>\n",
       "      <td>4116</td>\n",
       "      <td>11</td>\n",
       "      <td>60</td>\n",
       "      <td>11165.04</td>\n",
       "      <td>Medium</td>\n",
       "    </tr>\n",
       "    <tr>\n",
       "      <th>1</th>\n",
       "      <td>4019</td>\n",
       "      <td>3</td>\n",
       "      <td>299</td>\n",
       "      <td>68375.52</td>\n",
       "      <td>Medium</td>\n",
       "    </tr>\n",
       "    <tr>\n",
       "      <th>2</th>\n",
       "      <td>3456</td>\n",
       "      <td>1</td>\n",
       "      <td>608</td>\n",
       "      <td>182895.98</td>\n",
       "      <td>High</td>\n",
       "    </tr>\n",
       "    <tr>\n",
       "      <th>3</th>\n",
       "      <td>3742</td>\n",
       "      <td>3</td>\n",
       "      <td>218</td>\n",
       "      <td>48454.44</td>\n",
       "      <td>Medium</td>\n",
       "    </tr>\n",
       "    <tr>\n",
       "      <th>4</th>\n",
       "      <td>2528</td>\n",
       "      <td>1</td>\n",
       "      <td>286</td>\n",
       "      <td>213316.75</td>\n",
       "      <td>High</td>\n",
       "    </tr>\n",
       "  </tbody>\n",
       "</table>\n",
       "</div>"
      ],
      "text/plain": [
       "   Store Number  Recency  Frequency      Sales Store Segment\n",
       "0          4116       11         60   11165.04        Medium\n",
       "1          4019        3        299   68375.52        Medium\n",
       "2          3456        1        608  182895.98          High\n",
       "3          3742        3        218   48454.44        Medium\n",
       "4          2528        1        286  213316.75          High"
      ]
     },
     "execution_count": 36,
     "metadata": {},
     "output_type": "execute_result"
    }
   ],
   "source": [
    "conn=sqlite3.connect(\"TitosStoreSegments.sqlite\")\n",
    "segments=pd.read_sql('SELECT * FROM TitosStoreSegments', conn)\n",
    "segments.head()"
   ]
  },
  {
   "cell_type": "code",
   "execution_count": 37,
   "metadata": {},
   "outputs": [
    {
     "data": {
      "text/html": [
       "<div>\n",
       "<style scoped>\n",
       "    .dataframe tbody tr th:only-of-type {\n",
       "        vertical-align: middle;\n",
       "    }\n",
       "\n",
       "    .dataframe tbody tr th {\n",
       "        vertical-align: top;\n",
       "    }\n",
       "\n",
       "    .dataframe thead th {\n",
       "        text-align: right;\n",
       "    }\n",
       "</style>\n",
       "<table border=\"1\" class=\"dataframe\">\n",
       "  <thead>\n",
       "    <tr style=\"text-align: right;\">\n",
       "      <th></th>\n",
       "      <th>Store Number</th>\n",
       "      <th>pred_frequency</th>\n",
       "      <th>p_alive</th>\n",
       "      <th>actual_frequency</th>\n",
       "      <th>Store Segment</th>\n",
       "    </tr>\n",
       "  </thead>\n",
       "  <tbody>\n",
       "    <tr>\n",
       "      <th>0</th>\n",
       "      <td>2106</td>\n",
       "      <td>51.394953</td>\n",
       "      <td>0.999459</td>\n",
       "      <td>48.0</td>\n",
       "      <td>High</td>\n",
       "    </tr>\n",
       "    <tr>\n",
       "      <th>1</th>\n",
       "      <td>2113</td>\n",
       "      <td>38.422847</td>\n",
       "      <td>0.999535</td>\n",
       "      <td>1.0</td>\n",
       "      <td>Medium</td>\n",
       "    </tr>\n",
       "    <tr>\n",
       "      <th>2</th>\n",
       "      <td>2130</td>\n",
       "      <td>51.910051</td>\n",
       "      <td>0.999461</td>\n",
       "      <td>47.0</td>\n",
       "      <td>High</td>\n",
       "    </tr>\n",
       "    <tr>\n",
       "      <th>3</th>\n",
       "      <td>2178</td>\n",
       "      <td>32.745597</td>\n",
       "      <td>0.998723</td>\n",
       "      <td>39.0</td>\n",
       "      <td>Medium</td>\n",
       "    </tr>\n",
       "    <tr>\n",
       "      <th>4</th>\n",
       "      <td>2190</td>\n",
       "      <td>89.509722</td>\n",
       "      <td>0.999534</td>\n",
       "      <td>119.0</td>\n",
       "      <td>High</td>\n",
       "    </tr>\n",
       "  </tbody>\n",
       "</table>\n",
       "</div>"
      ],
      "text/plain": [
       "   Store Number  pred_frequency   p_alive  actual_frequency Store Segment\n",
       "0          2106       51.394953  0.999459              48.0          High\n",
       "1          2113       38.422847  0.999535               1.0        Medium\n",
       "2          2130       51.910051  0.999461              47.0          High\n",
       "3          2178       32.745597  0.998723              39.0        Medium\n",
       "4          2190       89.509722  0.999534             119.0          High"
      ]
     },
     "execution_count": 37,
     "metadata": {},
     "output_type": "execute_result"
    }
   ],
   "source": [
    "# find the segments of each of the stores with the prdicted transactions\n",
    "freq_seg = pd.merge(freq,segments[['Store Number','Store Segment']],on=['Store Number'],how='left')\n",
    "freq_seg.head()"
   ]
  },
  {
   "cell_type": "code",
   "execution_count": 38,
   "metadata": {},
   "outputs": [
    {
     "data": {
      "text/plain": [
       "(1562, 5)"
      ]
     },
     "execution_count": 38,
     "metadata": {},
     "output_type": "execute_result"
    }
   ],
   "source": [
    "freq_seg.shape"
   ]
  },
  {
   "cell_type": "code",
   "execution_count": 39,
   "metadata": {},
   "outputs": [
    {
     "data": {
      "text/plain": [
       "[Text(0.5, 0, 'Predicted Alive Probability'),\n",
       " Text(0, 0.5, 'Actual Transactions'),\n",
       " Text(0.5, 1.0, 'Validation Period 2020')]"
      ]
     },
     "execution_count": 39,
     "metadata": {},
     "output_type": "execute_result"
    },
    {
     "data": {
      "image/png": "[encoded data removed]",
      "text/plain": [
       "<Figure size 720x360 with 1 Axes>"
      ]
     },
     "metadata": {
      "needs_background": "light"
     },
     "output_type": "display_data"
    }
   ],
   "source": [
    "fig=sns.scatterplot(freq_seg['p_alive'],freq_seg['actual_frequency'])\n",
    "fig.set(xlabel='Predicted Alive Probability', ylabel='Actual Transactions',title='Validation Period 2020')"
   ]
  },
  {
   "cell_type": "code",
   "execution_count": 373,
   "metadata": {},
   "outputs": [
    {
     "data": {
      "text/html": [
       "<div>\n",
       "<style scoped>\n",
       "    .dataframe tbody tr th:only-of-type {\n",
       "        vertical-align: middle;\n",
       "    }\n",
       "\n",
       "    .dataframe tbody tr th {\n",
       "        vertical-align: top;\n",
       "    }\n",
       "\n",
       "    .dataframe thead th {\n",
       "        text-align: right;\n",
       "    }\n",
       "</style>\n",
       "<table border=\"1\" class=\"dataframe\">\n",
       "  <thead>\n",
       "    <tr style=\"text-align: right;\">\n",
       "      <th></th>\n",
       "      <th>Store Number</th>\n",
       "      <th>pred_frequency</th>\n",
       "      <th>p_alive</th>\n",
       "      <th>actual_frequency</th>\n",
       "      <th>Store Segment</th>\n",
       "      <th>pred_alive</th>\n",
       "      <th>actual_alive</th>\n",
       "    </tr>\n",
       "  </thead>\n",
       "  <tbody>\n",
       "    <tr>\n",
       "      <th>0</th>\n",
       "      <td>2106</td>\n",
       "      <td>51.394953</td>\n",
       "      <td>0.999459</td>\n",
       "      <td>48.0</td>\n",
       "      <td>High</td>\n",
       "      <td>1</td>\n",
       "      <td>1</td>\n",
       "    </tr>\n",
       "    <tr>\n",
       "      <th>1</th>\n",
       "      <td>2113</td>\n",
       "      <td>38.422847</td>\n",
       "      <td>0.999535</td>\n",
       "      <td>1.0</td>\n",
       "      <td>Medium</td>\n",
       "      <td>1</td>\n",
       "      <td>1</td>\n",
       "    </tr>\n",
       "    <tr>\n",
       "      <th>2</th>\n",
       "      <td>2130</td>\n",
       "      <td>51.910051</td>\n",
       "      <td>0.999461</td>\n",
       "      <td>47.0</td>\n",
       "      <td>High</td>\n",
       "      <td>1</td>\n",
       "      <td>1</td>\n",
       "    </tr>\n",
       "    <tr>\n",
       "      <th>3</th>\n",
       "      <td>2178</td>\n",
       "      <td>32.745597</td>\n",
       "      <td>0.998723</td>\n",
       "      <td>39.0</td>\n",
       "      <td>Medium</td>\n",
       "      <td>1</td>\n",
       "      <td>1</td>\n",
       "    </tr>\n",
       "    <tr>\n",
       "      <th>4</th>\n",
       "      <td>2190</td>\n",
       "      <td>89.509722</td>\n",
       "      <td>0.999534</td>\n",
       "      <td>119.0</td>\n",
       "      <td>High</td>\n",
       "      <td>1</td>\n",
       "      <td>1</td>\n",
       "    </tr>\n",
       "  </tbody>\n",
       "</table>\n",
       "</div>"
      ],
      "text/plain": [
       "   Store Number  pred_frequency   p_alive  actual_frequency Store Segment  \\\n",
       "0          2106       51.394953  0.999459              48.0          High   \n",
       "1          2113       38.422847  0.999535               1.0        Medium   \n",
       "2          2130       51.910051  0.999461              47.0          High   \n",
       "3          2178       32.745597  0.998723              39.0        Medium   \n",
       "4          2190       89.509722  0.999534             119.0          High   \n",
       "\n",
       "   pred_alive  actual_alive  \n",
       "0           1             1  \n",
       "1           1             1  \n",
       "2           1             1  \n",
       "3           1             1  \n",
       "4           1             1  "
      ]
     },
     "execution_count": 373,
     "metadata": {},
     "output_type": "execute_result"
    }
   ],
   "source": [
    "# Determine Accuracy\n",
    "freq_seg['pred_alive']=freq_seg['p_alive'].apply(lambda x:1 if x>=0.5 else 0)\n",
    "freq_seg['actual_alive']=freq_seg['actual_frequency'].apply(lambda x:1 if x>0 else 0)\n",
    "freq_seg.head()"
   ]
  },
  {
   "cell_type": "markdown",
   "metadata": {},
   "source": [
    "Function to plot confusion matrix borrowed from https://github.com/DTrimarchi10/confusion_matrix/blob/master/cf_matrix.py"
   ]
  },
  {
   "cell_type": "code",
   "execution_count": 281,
   "metadata": {},
   "outputs": [],
   "source": [
    "import numpy as np\n",
    "import matplotlib.pyplot as plt\n",
    "import seaborn as sns\n",
    "\n",
    "def make_confusion_matrix(cf,\n",
    "                          group_names=None,\n",
    "                          categories='auto',\n",
    "                          count=True,\n",
    "                          percent=True,\n",
    "                          cbar=True,\n",
    "                          xyticks=True,\n",
    "                          xyplotlabels=True,\n",
    "                          sum_stats=True,\n",
    "                          figsize=None,\n",
    "                          cmap='Blues',\n",
    "                          title=None):\n",
    "    '''\n",
    "    This function will make a pretty plot of an sklearn Confusion Matrix cm using a Seaborn heatmap visualization.\n",
    "    Arguments\n",
    "    ---------\n",
    "    cf:            confusion matrix to be passed in\n",
    "    group_names:   List of strings that represent the labels row by row to be shown in each square.\n",
    "    categories:    List of strings containing the categories to be displayed on the x,y axis. Default is 'auto'\n",
    "    count:         If True, show the raw number in the confusion matrix. Default is True.\n",
    "    normalize:     If True, show the proportions for each category. Default is True.\n",
    "    cbar:          If True, show the color bar. The cbar values are based off the values in the confusion matrix.\n",
    "                   Default is True.\n",
    "    xyticks:       If True, show x and y ticks. Default is True.\n",
    "    xyplotlabels:  If True, show 'True Label' and 'Predicted Label' on the figure. Default is True.\n",
    "    sum_stats:     If True, display summary statistics below the figure. Default is True.\n",
    "    figsize:       Tuple representing the figure size. Default will be the matplotlib rcParams value.\n",
    "    cmap:          Colormap of the values displayed from matplotlib.pyplot.cm. Default is 'Blues'\n",
    "                   See http://matplotlib.org/examples/color/colormaps_reference.html\n",
    "                   \n",
    "    title:         Title for the heatmap. Default is None.\n",
    "    '''\n",
    "\n",
    "\n",
    "    # CODE TO GENERATE TEXT INSIDE EACH SQUARE\n",
    "    blanks = ['' for i in range(cf.size)]\n",
    "\n",
    "    if group_names and len(group_names)==cf.size:\n",
    "        group_labels = [\"{}\\n\".format(value) for value in group_names]\n",
    "    else:\n",
    "        group_labels = blanks\n",
    "\n",
    "    if count:\n",
    "        group_counts = [\"{0:0.0f}\\n\".format(value) for value in cf.flatten()]\n",
    "    else:\n",
    "        group_counts = blanks\n",
    "\n",
    "    if percent:\n",
    "        group_percentages = [\"{0:.2%}\".format(value) for value in cf.flatten()/np.sum(cf)]\n",
    "    else:\n",
    "        group_percentages = blanks\n",
    "\n",
    "    box_labels = [f\"{v1}{v2}{v3}\".strip() for v1, v2, v3 in zip(group_labels,group_counts,group_percentages)]\n",
    "    box_labels = np.asarray(box_labels).reshape(cf.shape[0],cf.shape[1])\n",
    "\n",
    "\n",
    "    # CODE TO GENERATE SUMMARY STATISTICS & TEXT FOR SUMMARY STATS\n",
    "    if sum_stats:\n",
    "        #Accuracy is sum of diagonal divided by total observations\n",
    "        accuracy  = np.trace(cf) / float(np.sum(cf))\n",
    "\n",
    "        #if it is a binary confusion matrix, show some more stats\n",
    "        if len(cf)==2:\n",
    "            #Metrics for Binary Confusion Matrices\n",
    "            precision = cf[1,1] / sum(cf[:,1])\n",
    "            recall    = cf[1,1] / sum(cf[1,:])\n",
    "            f1_score  = 2*precision*recall / (precision + recall)\n",
    "            stats_text = \"\\n\\nAccuracy={:0.3f}\\nPrecision={:0.3f}\\nRecall={:0.3f}\\nF1 Score={:0.3f}\".format(\n",
    "                accuracy,precision,recall,f1_score)\n",
    "        else:\n",
    "            stats_text = \"\\n\\nAccuracy={:0.3f}\".format(accuracy)\n",
    "    else:\n",
    "        stats_text = \"\"\n",
    "\n",
    "\n",
    "    # SET FIGURE PARAMETERS ACCORDING TO OTHER ARGUMENTS\n",
    "    if figsize==None:\n",
    "        #Get default figure size if not set\n",
    "        figsize = plt.rcParams.get('figure.figsize')\n",
    "\n",
    "    if xyticks==False:\n",
    "        #Do not show categories if xyticks is False\n",
    "        categories=False\n",
    "\n",
    "\n",
    "    # MAKE THE HEATMAP VISUALIZATION\n",
    "    plt.figure(figsize=figsize)\n",
    "    sns.heatmap(cf,annot=box_labels,fmt=\"\",cmap=cmap,cbar=cbar,xticklabels=categories,yticklabels=categories)\n",
    "\n",
    "    if xyplotlabels:\n",
    "        plt.ylabel('Actual')\n",
    "        plt.xlabel('Predicted' + stats_text)\n",
    "    else:\n",
    "        plt.xlabel(stats_text)\n",
    "    \n",
    "    if title:\n",
    "        plt.title(title)"
   ]
  },
  {
   "cell_type": "code",
   "execution_count": 374,
   "metadata": {},
   "outputs": [
    {
     "data": {
      "text/plain": [
       "array([[  72,   76],\n",
       "       [   5, 1409]], dtype=int64)"
      ]
     },
     "execution_count": 374,
     "metadata": {},
     "output_type": "execute_result"
    }
   ],
   "source": [
    "cm=confusion_matrix(freq_seg['actual_alive'],freq_seg['pred_alive'])\n",
    "cm"
   ]
  },
  {
   "cell_type": "code",
   "execution_count": 375,
   "metadata": {},
   "outputs": [
    {
     "data": {
      "text/plain": [
       "array([  76, 1409], dtype=int64)"
      ]
     },
     "execution_count": 375,
     "metadata": {},
     "output_type": "execute_result"
    }
   ],
   "source": [
    "cm[:,1]"
   ]
  },
  {
   "cell_type": "code",
   "execution_count": 376,
   "metadata": {},
   "outputs": [
    {
     "data": {
      "text/plain": [
       "Store Number        148\n",
       "pred_frequency      148\n",
       "p_alive             148\n",
       "actual_frequency    148\n",
       "Store Segment       148\n",
       "pred_alive          148\n",
       "actual_alive        148\n",
       "dtype: int64"
      ]
     },
     "execution_count": 376,
     "metadata": {},
     "output_type": "execute_result"
    }
   ],
   "source": [
    "freq_seg[freq_seg['actual_alive']==0].count()"
   ]
  },
  {
   "cell_type": "code",
   "execution_count": 377,
   "metadata": {},
   "outputs": [
    {
     "data": {
      "text/plain": [
       "Store Number        76\n",
       "pred_frequency      76\n",
       "p_alive             76\n",
       "actual_frequency    76\n",
       "Store Segment       76\n",
       "pred_alive          76\n",
       "actual_alive        76\n",
       "dtype: int64"
      ]
     },
     "execution_count": 377,
     "metadata": {},
     "output_type": "execute_result"
    }
   ],
   "source": [
    "freq_seg[(freq_seg['actual_alive']==0) & (freq_seg['pred_alive']==1)].count()"
   ]
  },
  {
   "cell_type": "code",
   "execution_count": 378,
   "metadata": {},
   "outputs": [
    {
     "data": {
      "text/plain": [
       "Store Number        1414\n",
       "pred_frequency      1414\n",
       "p_alive             1414\n",
       "actual_frequency    1414\n",
       "Store Segment       1414\n",
       "pred_alive          1414\n",
       "actual_alive        1414\n",
       "dtype: int64"
      ]
     },
     "execution_count": 378,
     "metadata": {},
     "output_type": "execute_result"
    }
   ],
   "source": [
    "freq_seg[freq_seg['actual_alive']==1].count()"
   ]
  },
  {
   "cell_type": "code",
   "execution_count": 379,
   "metadata": {},
   "outputs": [
    {
     "data": {
      "text/plain": [
       "Store Number        77\n",
       "pred_frequency      77\n",
       "p_alive             77\n",
       "actual_frequency    77\n",
       "Store Segment       77\n",
       "pred_alive          77\n",
       "actual_alive        77\n",
       "dtype: int64"
      ]
     },
     "execution_count": 379,
     "metadata": {},
     "output_type": "execute_result"
    }
   ],
   "source": [
    "freq_seg[freq_seg['pred_alive']==0].count()"
   ]
  },
  {
   "cell_type": "code",
   "execution_count": 380,
   "metadata": {},
   "outputs": [
    {
     "data": {
      "text/plain": [
       "Store Number        1485\n",
       "pred_frequency      1485\n",
       "p_alive             1485\n",
       "actual_frequency    1485\n",
       "Store Segment       1485\n",
       "pred_alive          1485\n",
       "actual_alive        1485\n",
       "dtype: int64"
      ]
     },
     "execution_count": 380,
     "metadata": {},
     "output_type": "execute_result"
    }
   ],
   "source": [
    "freq_seg[freq_seg['pred_alive']==1].count()"
   ]
  },
  {
   "cell_type": "code",
   "execution_count": 381,
   "metadata": {},
   "outputs": [
    {
     "data": {
      "image/png": "[encoded data removed]",
      "text/plain": [
       "<Figure size 720x360 with 2 Axes>"
      ]
     },
     "metadata": {
      "needs_background": "light"
     },
     "output_type": "display_data"
    }
   ],
   "source": [
    "labels = ['True Dead','False Alive','False Dead','True Alive']\n",
    "categories = ['Dead', 'Alive']\n",
    "make_confusion_matrix(cm, \n",
    "                      group_names=labels,\n",
    "                      categories=categories)"
   ]
  },
  {
   "cell_type": "markdown",
   "metadata": {},
   "source": [
    "93.5% of the correctly predicted alive stores are actually alive"
   ]
  },
  {
   "cell_type": "code",
   "execution_count": 382,
   "metadata": {},
   "outputs": [
    {
     "data": {
      "text/plain": [
       "0.9488215488215488"
      ]
     },
     "execution_count": 382,
     "metadata": {},
     "output_type": "execute_result"
    }
   ],
   "source": [
    "# precisiion of being alive\n",
    "1409/(1409+76)"
   ]
  },
  {
   "cell_type": "markdown",
   "metadata": {},
   "source": [
    "Out of all the actual alive stores 99.7% were predicted to be alive"
   ]
  },
  {
   "cell_type": "code",
   "execution_count": 383,
   "metadata": {},
   "outputs": [
    {
     "data": {
      "text/plain": [
       "0.9964639321074965"
      ]
     },
     "execution_count": 383,
     "metadata": {},
     "output_type": "execute_result"
    }
   ],
   "source": [
    "# recall of being alive\n",
    "1409/(1409+5)"
   ]
  },
  {
   "cell_type": "markdown",
   "metadata": {},
   "source": [
    "- The model is doing well to predict the probability of a store to be alive. This probability is important to make decisions on the allocation of the marketing costs.\n",
    "- There is always a risk that money will be spent on a store that may become dead, and the probability of that risk is 4.87%.\n",
    "- There is also a risk that we may ignore a store that will still be alive, and the probability of that risk is 0.3%.\n",
    "- These percentages are small and can be considered as the risk cost of the marketing plan."
   ]
  },
  {
   "cell_type": "markdown",
   "metadata": {},
   "source": [
    "Looking at the segemnts of the stores that were predicted to be alive but they're actually dead. Some of them are in the low segement that stopped ordering by the end of 2018. Most are in the medium segment."
   ]
  },
  {
   "cell_type": "code",
   "execution_count": 384,
   "metadata": {},
   "outputs": [
    {
     "name": "stdout",
     "output_type": "stream",
     "text": [
      "               Store Number\n",
      "Store Segment              \n",
      "High                      1\n",
      "Low                       4\n",
      "Medium                   71\n"
     ]
    }
   ],
   "source": [
    "df=freq_seg[(freq_seg['actual_alive']==0) & (freq_seg['pred_alive']==1)][['Store Segment','Store Number']].groupby(['Store Segment']).nunique()\n",
    "print (df)"
   ]
  },
  {
   "cell_type": "markdown",
   "metadata": {},
   "source": [
    "Now that the model is trained and validated, the validation period can be included in the fitting of the model to predict the probability for each customer for 2021. I am going to use the validated model with the whole period from Jan 2018 to Feb 2021 to predict the alive probability and the number of transaction in the next 90 days."
   ]
  },
  {
   "cell_type": "code",
   "execution_count": 385,
   "metadata": {},
   "outputs": [
    {
     "data": {
      "text/html": [
       "<div>\n",
       "<style scoped>\n",
       "    .dataframe tbody tr th:only-of-type {\n",
       "        vertical-align: middle;\n",
       "    }\n",
       "\n",
       "    .dataframe tbody tr th {\n",
       "        vertical-align: top;\n",
       "    }\n",
       "\n",
       "    .dataframe thead th {\n",
       "        text-align: right;\n",
       "    }\n",
       "</style>\n",
       "<table border=\"1\" class=\"dataframe\">\n",
       "  <thead>\n",
       "    <tr style=\"text-align: right;\">\n",
       "      <th></th>\n",
       "      <th>Store Number</th>\n",
       "      <th>frequency</th>\n",
       "      <th>recency</th>\n",
       "      <th>T</th>\n",
       "      <th>monetary_value</th>\n",
       "    </tr>\n",
       "  </thead>\n",
       "  <tbody>\n",
       "    <tr>\n",
       "      <th>0</th>\n",
       "      <td>2106</td>\n",
       "      <td>147.0</td>\n",
       "      <td>1120.0</td>\n",
       "      <td>1121.0</td>\n",
       "      <td>1120.153197</td>\n",
       "    </tr>\n",
       "    <tr>\n",
       "      <th>1</th>\n",
       "      <td>2113</td>\n",
       "      <td>75.0</td>\n",
       "      <td>755.0</td>\n",
       "      <td>1123.0</td>\n",
       "      <td>106.523600</td>\n",
       "    </tr>\n",
       "    <tr>\n",
       "      <th>2</th>\n",
       "      <td>2130</td>\n",
       "      <td>147.0</td>\n",
       "      <td>1120.0</td>\n",
       "      <td>1121.0</td>\n",
       "      <td>1029.593741</td>\n",
       "    </tr>\n",
       "    <tr>\n",
       "      <th>3</th>\n",
       "      <td>2178</td>\n",
       "      <td>100.0</td>\n",
       "      <td>1078.0</td>\n",
       "      <td>1099.0</td>\n",
       "      <td>361.718400</td>\n",
       "    </tr>\n",
       "    <tr>\n",
       "      <th>4</th>\n",
       "      <td>2190</td>\n",
       "      <td>292.0</td>\n",
       "      <td>1121.0</td>\n",
       "      <td>1121.0</td>\n",
       "      <td>234.979110</td>\n",
       "    </tr>\n",
       "  </tbody>\n",
       "</table>\n",
       "</div>"
      ],
      "text/plain": [
       "   Store Number  frequency  recency       T  monetary_value\n",
       "0          2106      147.0   1120.0  1121.0     1120.153197\n",
       "1          2113       75.0    755.0  1123.0      106.523600\n",
       "2          2130      147.0   1120.0  1121.0     1029.593741\n",
       "3          2178      100.0   1078.0  1099.0      361.718400\n",
       "4          2190      292.0   1121.0  1121.0      234.979110"
      ]
     },
     "execution_count": 385,
     "metadata": {},
     "output_type": "execute_result"
    }
   ],
   "source": [
    "# get RFM for the three year period\n",
    "summary_all=lifetimes.utils.summary_data_from_transaction_data(TitosTransCLV,'Store Number','Date','Sale (Dollars)').reset_index()\n",
    "summary_all.head()"
   ]
  },
  {
   "cell_type": "code",
   "execution_count": 386,
   "metadata": {},
   "outputs": [],
   "source": [
    "# Exclude the stores that are listed but reported zero transactions\n",
    "summary_all=summary_all[summary_all['frequency']>0]"
   ]
  },
  {
   "cell_type": "code",
   "execution_count": 387,
   "metadata": {},
   "outputs": [
    {
     "data": {
      "text/plain": [
       "<matplotlib.legend.Legend at 0x2bdf16adeb0>"
      ]
     },
     "execution_count": 387,
     "metadata": {},
     "output_type": "execute_result"
    },
    {
     "data": {
      "image/png": "[encoded data removed]",
      "text/plain": [
       "<Figure size 720x360 with 1 Axes>"
      ]
     },
     "metadata": {
      "needs_background": "light"
     },
     "output_type": "display_data"
    }
   ],
   "source": [
    "summary_all['frequency'].plot(kind='hist',bins=50, label='2018-2021')\n",
    "summary['frequency'].plot(kind='hist',bins=50,label='2018-2020')\n",
    "plt.legend()"
   ]
  },
  {
   "cell_type": "code",
   "execution_count": 388,
   "metadata": {},
   "outputs": [
    {
     "data": {
      "text/plain": [
       "count    1864.000000\n",
       "mean       48.621781\n",
       "std        45.636680\n",
       "min         1.000000\n",
       "25%        12.000000\n",
       "50%        32.000000\n",
       "75%        77.000000\n",
       "max       364.000000\n",
       "Name: frequency, dtype: float64"
      ]
     },
     "execution_count": 388,
     "metadata": {},
     "output_type": "execute_result"
    }
   ],
   "source": [
    "summary_all['frequency'].describe()"
   ]
  },
  {
   "cell_type": "code",
   "execution_count": 389,
   "metadata": {},
   "outputs": [
    {
     "data": {
      "text/plain": [
       "count    1562.000000\n",
       "mean       34.289373\n",
       "std        30.153496\n",
       "min         1.000000\n",
       "25%        10.000000\n",
       "50%        25.000000\n",
       "75%        53.750000\n",
       "max       254.000000\n",
       "Name: frequency, dtype: float64"
      ]
     },
     "execution_count": 389,
     "metadata": {},
     "output_type": "execute_result"
    }
   ],
   "source": [
    "summary['frequency'].describe()"
   ]
  },
  {
   "cell_type": "code",
   "execution_count": 390,
   "metadata": {},
   "outputs": [
    {
     "data": {
      "text/html": [
       "<div>\n",
       "<style scoped>\n",
       "    .dataframe tbody tr th:only-of-type {\n",
       "        vertical-align: middle;\n",
       "    }\n",
       "\n",
       "    .dataframe tbody tr th {\n",
       "        vertical-align: top;\n",
       "    }\n",
       "\n",
       "    .dataframe thead th {\n",
       "        text-align: right;\n",
       "    }\n",
       "</style>\n",
       "<table border=\"1\" class=\"dataframe\">\n",
       "  <thead>\n",
       "    <tr style=\"text-align: right;\">\n",
       "      <th></th>\n",
       "      <th>Store Number</th>\n",
       "      <th>frequency</th>\n",
       "      <th>recency</th>\n",
       "      <th>T</th>\n",
       "      <th>monetary_value</th>\n",
       "      <th>p_alive</th>\n",
       "    </tr>\n",
       "  </thead>\n",
       "  <tbody>\n",
       "    <tr>\n",
       "      <th>0</th>\n",
       "      <td>2106</td>\n",
       "      <td>147.0</td>\n",
       "      <td>1120.0</td>\n",
       "      <td>1121.0</td>\n",
       "      <td>1120.153197</td>\n",
       "      <td>9.997534e-01</td>\n",
       "    </tr>\n",
       "    <tr>\n",
       "      <th>1</th>\n",
       "      <td>2113</td>\n",
       "      <td>75.0</td>\n",
       "      <td>755.0</td>\n",
       "      <td>1123.0</td>\n",
       "      <td>106.523600</td>\n",
       "      <td>4.060480e-10</td>\n",
       "    </tr>\n",
       "    <tr>\n",
       "      <th>2</th>\n",
       "      <td>2130</td>\n",
       "      <td>147.0</td>\n",
       "      <td>1120.0</td>\n",
       "      <td>1121.0</td>\n",
       "      <td>1029.593741</td>\n",
       "      <td>9.997534e-01</td>\n",
       "    </tr>\n",
       "    <tr>\n",
       "      <th>3</th>\n",
       "      <td>2178</td>\n",
       "      <td>100.0</td>\n",
       "      <td>1078.0</td>\n",
       "      <td>1099.0</td>\n",
       "      <td>361.718400</td>\n",
       "      <td>9.978964e-01</td>\n",
       "    </tr>\n",
       "    <tr>\n",
       "      <th>4</th>\n",
       "      <td>2190</td>\n",
       "      <td>292.0</td>\n",
       "      <td>1121.0</td>\n",
       "      <td>1121.0</td>\n",
       "      <td>234.979110</td>\n",
       "      <td>9.998889e-01</td>\n",
       "    </tr>\n",
       "  </tbody>\n",
       "</table>\n",
       "</div>"
      ],
      "text/plain": [
       "   Store Number  frequency  recency       T  monetary_value       p_alive\n",
       "0          2106      147.0   1120.0  1121.0     1120.153197  9.997534e-01\n",
       "1          2113       75.0    755.0  1123.0      106.523600  4.060480e-10\n",
       "2          2130      147.0   1120.0  1121.0     1029.593741  9.997534e-01\n",
       "3          2178      100.0   1078.0  1099.0      361.718400  9.978964e-01\n",
       "4          2190      292.0   1121.0  1121.0      234.979110  9.998889e-01"
      ]
     },
     "execution_count": 390,
     "metadata": {},
     "output_type": "execute_result"
    }
   ],
   "source": [
    "# predict the alive probability after three years\n",
    "summary_all['p_alive']=bgf.conditional_probability_alive(summary_all['frequency'],summary_all['recency'],summary_all['T'])\n",
    "summary_all.head()"
   ]
  },
  {
   "cell_type": "code",
   "execution_count": 391,
   "metadata": {},
   "outputs": [
    {
     "data": {
      "text/plain": [
       "<AxesSubplot:title={'center':'Probability Customer is Alive,\\nby Frequency and Recency of a Customer'}, xlabel=\"Customer's Historical Frequency\", ylabel=\"Customer's Recency\">"
      ]
     },
     "execution_count": 391,
     "metadata": {},
     "output_type": "execute_result"
    },
    {
     "data": {
      "image/png": "[encoded data removed]",
      "text/plain": [
       "<Figure size 720x360 with 2 Axes>"
      ]
     },
     "metadata": {
      "needs_background": "light"
     },
     "output_type": "display_data"
    }
   ],
   "source": [
    "# now we can plot the probability\n",
    "plt.rcParams['figure.figsize'] = (10,5)\n",
    "lifetimes.plotting.plot_probability_alive_matrix(bgf)"
   ]
  },
  {
   "cell_type": "code",
   "execution_count": 392,
   "metadata": {},
   "outputs": [
    {
     "data": {
      "text/html": [
       "<div>\n",
       "<style scoped>\n",
       "    .dataframe tbody tr th:only-of-type {\n",
       "        vertical-align: middle;\n",
       "    }\n",
       "\n",
       "    .dataframe tbody tr th {\n",
       "        vertical-align: top;\n",
       "    }\n",
       "\n",
       "    .dataframe thead th {\n",
       "        text-align: right;\n",
       "    }\n",
       "</style>\n",
       "<table border=\"1\" class=\"dataframe\">\n",
       "  <thead>\n",
       "    <tr style=\"text-align: right;\">\n",
       "      <th></th>\n",
       "      <th>Store Number</th>\n",
       "      <th>frequency</th>\n",
       "      <th>recency</th>\n",
       "      <th>T</th>\n",
       "      <th>monetary_value</th>\n",
       "      <th>p_alive</th>\n",
       "      <th>pred_frequency</th>\n",
       "    </tr>\n",
       "  </thead>\n",
       "  <tbody>\n",
       "    <tr>\n",
       "      <th>0</th>\n",
       "      <td>2106</td>\n",
       "      <td>147.0</td>\n",
       "      <td>1120.0</td>\n",
       "      <td>1121.0</td>\n",
       "      <td>1120.153197</td>\n",
       "      <td>9.997534e-01</td>\n",
       "      <td>4.618703e+01</td>\n",
       "    </tr>\n",
       "    <tr>\n",
       "      <th>1</th>\n",
       "      <td>2113</td>\n",
       "      <td>75.0</td>\n",
       "      <td>755.0</td>\n",
       "      <td>1123.0</td>\n",
       "      <td>106.523600</td>\n",
       "      <td>4.060480e-10</td>\n",
       "      <td>9.664861e-09</td>\n",
       "    </tr>\n",
       "    <tr>\n",
       "      <th>2</th>\n",
       "      <td>2130</td>\n",
       "      <td>147.0</td>\n",
       "      <td>1120.0</td>\n",
       "      <td>1121.0</td>\n",
       "      <td>1029.593741</td>\n",
       "      <td>9.997534e-01</td>\n",
       "      <td>4.618703e+01</td>\n",
       "    </tr>\n",
       "    <tr>\n",
       "      <th>3</th>\n",
       "      <td>2178</td>\n",
       "      <td>100.0</td>\n",
       "      <td>1078.0</td>\n",
       "      <td>1099.0</td>\n",
       "      <td>361.718400</td>\n",
       "      <td>9.978964e-01</td>\n",
       "      <td>3.214939e+01</td>\n",
       "    </tr>\n",
       "    <tr>\n",
       "      <th>4</th>\n",
       "      <td>2190</td>\n",
       "      <td>292.0</td>\n",
       "      <td>1121.0</td>\n",
       "      <td>1121.0</td>\n",
       "      <td>234.979110</td>\n",
       "      <td>9.998889e-01</td>\n",
       "      <td>9.120875e+01</td>\n",
       "    </tr>\n",
       "  </tbody>\n",
       "</table>\n",
       "</div>"
      ],
      "text/plain": [
       "   Store Number  frequency  recency       T  monetary_value       p_alive  \\\n",
       "0          2106      147.0   1120.0  1121.0     1120.153197  9.997534e-01   \n",
       "1          2113       75.0    755.0  1123.0      106.523600  4.060480e-10   \n",
       "2          2130      147.0   1120.0  1121.0     1029.593741  9.997534e-01   \n",
       "3          2178      100.0   1078.0  1099.0      361.718400  9.978964e-01   \n",
       "4          2190      292.0   1121.0  1121.0      234.979110  9.998889e-01   \n",
       "\n",
       "   pred_frequency  \n",
       "0    4.618703e+01  \n",
       "1    9.664861e-09  \n",
       "2    4.618703e+01  \n",
       "3    3.214939e+01  \n",
       "4    9.120875e+01  "
      ]
     },
     "execution_count": 392,
     "metadata": {},
     "output_type": "execute_result"
    }
   ],
   "source": [
    "# predict the number of transactions in the following year\n",
    "summary_all['pred_frequency']=bgf.conditional_expected_number_of_purchases_up_to_time(360,summary_all['frequency'],summary_all['recency'],summary_all['T'])\n",
    "summary_all.head()"
   ]
  },
  {
   "cell_type": "code",
   "execution_count": 393,
   "metadata": {},
   "outputs": [
    {
     "data": {
      "text/html": [
       "<div>\n",
       "<style scoped>\n",
       "    .dataframe tbody tr th:only-of-type {\n",
       "        vertical-align: middle;\n",
       "    }\n",
       "\n",
       "    .dataframe tbody tr th {\n",
       "        vertical-align: top;\n",
       "    }\n",
       "\n",
       "    .dataframe thead th {\n",
       "        text-align: right;\n",
       "    }\n",
       "</style>\n",
       "<table border=\"1\" class=\"dataframe\">\n",
       "  <thead>\n",
       "    <tr style=\"text-align: right;\">\n",
       "      <th></th>\n",
       "      <th>Store Number</th>\n",
       "      <th>frequency</th>\n",
       "      <th>recency</th>\n",
       "      <th>T</th>\n",
       "      <th>monetary_value</th>\n",
       "      <th>p_alive</th>\n",
       "      <th>pred_frequency</th>\n",
       "      <th>Store Segment</th>\n",
       "    </tr>\n",
       "  </thead>\n",
       "  <tbody>\n",
       "    <tr>\n",
       "      <th>0</th>\n",
       "      <td>2106</td>\n",
       "      <td>147.0</td>\n",
       "      <td>1120.0</td>\n",
       "      <td>1121.0</td>\n",
       "      <td>1120.153197</td>\n",
       "      <td>9.997534e-01</td>\n",
       "      <td>4.618703e+01</td>\n",
       "      <td>High</td>\n",
       "    </tr>\n",
       "    <tr>\n",
       "      <th>1</th>\n",
       "      <td>2113</td>\n",
       "      <td>75.0</td>\n",
       "      <td>755.0</td>\n",
       "      <td>1123.0</td>\n",
       "      <td>106.523600</td>\n",
       "      <td>4.060480e-10</td>\n",
       "      <td>9.664861e-09</td>\n",
       "      <td>Medium</td>\n",
       "    </tr>\n",
       "    <tr>\n",
       "      <th>2</th>\n",
       "      <td>2130</td>\n",
       "      <td>147.0</td>\n",
       "      <td>1120.0</td>\n",
       "      <td>1121.0</td>\n",
       "      <td>1029.593741</td>\n",
       "      <td>9.997534e-01</td>\n",
       "      <td>4.618703e+01</td>\n",
       "      <td>High</td>\n",
       "    </tr>\n",
       "    <tr>\n",
       "      <th>3</th>\n",
       "      <td>2178</td>\n",
       "      <td>100.0</td>\n",
       "      <td>1078.0</td>\n",
       "      <td>1099.0</td>\n",
       "      <td>361.718400</td>\n",
       "      <td>9.978964e-01</td>\n",
       "      <td>3.214939e+01</td>\n",
       "      <td>Medium</td>\n",
       "    </tr>\n",
       "    <tr>\n",
       "      <th>4</th>\n",
       "      <td>2190</td>\n",
       "      <td>292.0</td>\n",
       "      <td>1121.0</td>\n",
       "      <td>1121.0</td>\n",
       "      <td>234.979110</td>\n",
       "      <td>9.998889e-01</td>\n",
       "      <td>9.120875e+01</td>\n",
       "      <td>High</td>\n",
       "    </tr>\n",
       "  </tbody>\n",
       "</table>\n",
       "</div>"
      ],
      "text/plain": [
       "   Store Number  frequency  recency       T  monetary_value       p_alive  \\\n",
       "0          2106      147.0   1120.0  1121.0     1120.153197  9.997534e-01   \n",
       "1          2113       75.0    755.0  1123.0      106.523600  4.060480e-10   \n",
       "2          2130      147.0   1120.0  1121.0     1029.593741  9.997534e-01   \n",
       "3          2178      100.0   1078.0  1099.0      361.718400  9.978964e-01   \n",
       "4          2190      292.0   1121.0  1121.0      234.979110  9.998889e-01   \n",
       "\n",
       "   pred_frequency Store Segment  \n",
       "0    4.618703e+01          High  \n",
       "1    9.664861e-09        Medium  \n",
       "2    4.618703e+01          High  \n",
       "3    3.214939e+01        Medium  \n",
       "4    9.120875e+01          High  "
      ]
     },
     "execution_count": 393,
     "metadata": {},
     "output_type": "execute_result"
    }
   ],
   "source": [
    "# add store segments\n",
    "summary_seg = pd.merge(summary_all,segments[['Store Number','Store Segment']],on=['Store Number'],how='left')\n",
    "summary_seg.head()"
   ]
  },
  {
   "cell_type": "code",
   "execution_count": 394,
   "metadata": {},
   "outputs": [
    {
     "data": {
      "text/plain": [
       "(1864, 8)"
      ]
     },
     "execution_count": 394,
     "metadata": {},
     "output_type": "execute_result"
    }
   ],
   "source": [
    "summary_seg.shape"
   ]
  },
  {
   "cell_type": "code",
   "execution_count": 395,
   "metadata": {},
   "outputs": [
    {
     "data": {
      "text/plain": [
       "(1864, 7)"
      ]
     },
     "execution_count": 395,
     "metadata": {},
     "output_type": "execute_result"
    }
   ],
   "source": [
    "summary_all.shape"
   ]
  },
  {
   "cell_type": "code",
   "execution_count": 396,
   "metadata": {},
   "outputs": [
    {
     "data": {
      "text/plain": [
       "[Text(0.5, 0, 'Predicted Alive Probability'),\n",
       " Text(0, 0.5, 'Actual Transactions'),\n",
       " Text(0.5, 1.0, 'Actual Transactions (2018-2021)')]"
      ]
     },
     "execution_count": 396,
     "metadata": {},
     "output_type": "execute_result"
    },
    {
     "data": {
      "image/png": "[encoded data removed]",
      "text/plain": [
       "<Figure size 720x360 with 1 Axes>"
      ]
     },
     "metadata": {
      "needs_background": "light"
     },
     "output_type": "display_data"
    }
   ],
   "source": [
    "fig=sns.scatterplot(summary_seg['p_alive'],summary_seg['frequency'],hue=summary_seg['Store Segment'])\n",
    "fig.set(xlabel='Predicted Alive Probability', ylabel='Actual Transactions',title='Actual Transactions (2018-2021)')"
   ]
  },
  {
   "cell_type": "code",
   "execution_count": 397,
   "metadata": {},
   "outputs": [
    {
     "data": {
      "text/plain": [
       "[Text(0.5, 0, 'Predicted Alive Probability'),\n",
       " Text(0, 0.5, 'Predicted Transactions'),\n",
       " Text(0.5, 1.0, 'Predicted in the Following Year')]"
      ]
     },
     "execution_count": 397,
     "metadata": {},
     "output_type": "execute_result"
    },
    {
     "data": {
      "image/png": "[encoded data removed]",
      "text/plain": [
       "<Figure size 720x360 with 1 Axes>"
      ]
     },
     "metadata": {
      "needs_background": "light"
     },
     "output_type": "display_data"
    }
   ],
   "source": [
    "fig=sns.scatterplot(summary_seg['p_alive'],summary_seg['pred_frequency'],hue=summary_seg['Store Segment'])\n",
    "fig.set(xlabel='Predicted Alive Probability', ylabel='Predicted Transactions',title='Predicted in the Following Year')"
   ]
  },
  {
   "cell_type": "code",
   "execution_count": 398,
   "metadata": {},
   "outputs": [],
   "source": [
    "# create a column for inactive days\n",
    "summary_seg['inactive']=summary_seg['T']-summary_seg['recency']"
   ]
  },
  {
   "cell_type": "code",
   "execution_count": 399,
   "metadata": {},
   "outputs": [
    {
     "data": {
      "text/html": [
       "<div>\n",
       "<style scoped>\n",
       "    .dataframe tbody tr th:only-of-type {\n",
       "        vertical-align: middle;\n",
       "    }\n",
       "\n",
       "    .dataframe tbody tr th {\n",
       "        vertical-align: top;\n",
       "    }\n",
       "\n",
       "    .dataframe thead th {\n",
       "        text-align: right;\n",
       "    }\n",
       "</style>\n",
       "<table border=\"1\" class=\"dataframe\">\n",
       "  <thead>\n",
       "    <tr style=\"text-align: right;\">\n",
       "      <th></th>\n",
       "      <th>Store Number</th>\n",
       "      <th>frequency</th>\n",
       "      <th>recency</th>\n",
       "      <th>T</th>\n",
       "      <th>monetary_value</th>\n",
       "      <th>p_alive</th>\n",
       "      <th>pred_frequency</th>\n",
       "      <th>Store Segment</th>\n",
       "      <th>inactive</th>\n",
       "    </tr>\n",
       "  </thead>\n",
       "  <tbody>\n",
       "    <tr>\n",
       "      <th>460</th>\n",
       "      <td>4167</td>\n",
       "      <td>102.0</td>\n",
       "      <td>725.0</td>\n",
       "      <td>1123.0</td>\n",
       "      <td>2016.373725</td>\n",
       "      <td>3.101399e-16</td>\n",
       "      <td>9.977511e-15</td>\n",
       "      <td>High</td>\n",
       "      <td>398.0</td>\n",
       "    </tr>\n",
       "    <tr>\n",
       "      <th>337</th>\n",
       "      <td>3869</td>\n",
       "      <td>113.0</td>\n",
       "      <td>925.0</td>\n",
       "      <td>1108.0</td>\n",
       "      <td>297.399735</td>\n",
       "      <td>6.929293e-06</td>\n",
       "      <td>2.497749e-04</td>\n",
       "      <td>High</td>\n",
       "      <td>183.0</td>\n",
       "    </tr>\n",
       "    <tr>\n",
       "      <th>219</th>\n",
       "      <td>3447</td>\n",
       "      <td>98.0</td>\n",
       "      <td>993.0</td>\n",
       "      <td>1122.0</td>\n",
       "      <td>4903.743673</td>\n",
       "      <td>2.257974e-02</td>\n",
       "      <td>6.990204e-01</td>\n",
       "      <td>High</td>\n",
       "      <td>129.0</td>\n",
       "    </tr>\n",
       "    <tr>\n",
       "      <th>223</th>\n",
       "      <td>3477</td>\n",
       "      <td>94.0</td>\n",
       "      <td>992.0</td>\n",
       "      <td>1120.0</td>\n",
       "      <td>3944.452340</td>\n",
       "      <td>3.693394e-02</td>\n",
       "      <td>1.099461e+00</td>\n",
       "      <td>High</td>\n",
       "      <td>128.0</td>\n",
       "    </tr>\n",
       "    <tr>\n",
       "      <th>229</th>\n",
       "      <td>3524</td>\n",
       "      <td>102.0</td>\n",
       "      <td>994.0</td>\n",
       "      <td>1122.0</td>\n",
       "      <td>4598.916471</td>\n",
       "      <td>1.626177e-02</td>\n",
       "      <td>5.236084e-01</td>\n",
       "      <td>High</td>\n",
       "      <td>128.0</td>\n",
       "    </tr>\n",
       "    <tr>\n",
       "      <th>1066</th>\n",
       "      <td>5124</td>\n",
       "      <td>106.0</td>\n",
       "      <td>1007.0</td>\n",
       "      <td>1123.0</td>\n",
       "      <td>770.884906</td>\n",
       "      <td>3.649437e-02</td>\n",
       "      <td>1.219306e+00</td>\n",
       "      <td>High</td>\n",
       "      <td>116.0</td>\n",
       "    </tr>\n",
       "  </tbody>\n",
       "</table>\n",
       "</div>"
      ],
      "text/plain": [
       "      Store Number  frequency  recency       T  monetary_value       p_alive  \\\n",
       "460           4167      102.0    725.0  1123.0     2016.373725  3.101399e-16   \n",
       "337           3869      113.0    925.0  1108.0      297.399735  6.929293e-06   \n",
       "219           3447       98.0    993.0  1122.0     4903.743673  2.257974e-02   \n",
       "223           3477       94.0    992.0  1120.0     3944.452340  3.693394e-02   \n",
       "229           3524      102.0    994.0  1122.0     4598.916471  1.626177e-02   \n",
       "1066          5124      106.0   1007.0  1123.0      770.884906  3.649437e-02   \n",
       "\n",
       "      pred_frequency Store Segment  inactive  \n",
       "460     9.977511e-15          High     398.0  \n",
       "337     2.497749e-04          High     183.0  \n",
       "219     6.990204e-01          High     129.0  \n",
       "223     1.099461e+00          High     128.0  \n",
       "229     5.236084e-01          High     128.0  \n",
       "1066    1.219306e+00          High     116.0  "
      ]
     },
     "execution_count": 399,
     "metadata": {},
     "output_type": "execute_result"
    }
   ],
   "source": [
    "# Find the stores in the High segments that have low alive probability\n",
    "HighDead=summary_seg.loc[(summary_seg['p_alive'] <= 0.1) & (summary_seg['Store Segment']=='High')].sort_values(by=['inactive'],ascending=False)\n",
    "HighDead"
   ]
  },
  {
   "cell_type": "code",
   "execution_count": 400,
   "metadata": {},
   "outputs": [
    {
     "data": {
      "text/html": [
       "<div>\n",
       "<style scoped>\n",
       "    .dataframe tbody tr th:only-of-type {\n",
       "        vertical-align: middle;\n",
       "    }\n",
       "\n",
       "    .dataframe tbody tr th {\n",
       "        vertical-align: top;\n",
       "    }\n",
       "\n",
       "    .dataframe thead th {\n",
       "        text-align: right;\n",
       "    }\n",
       "</style>\n",
       "<table border=\"1\" class=\"dataframe\">\n",
       "  <thead>\n",
       "    <tr style=\"text-align: right;\">\n",
       "      <th></th>\n",
       "      <th>Store Number</th>\n",
       "      <th>frequency</th>\n",
       "      <th>recency</th>\n",
       "      <th>T</th>\n",
       "      <th>monetary_value</th>\n",
       "      <th>p_alive</th>\n",
       "      <th>pred_frequency</th>\n",
       "      <th>Store Segment</th>\n",
       "      <th>inactive</th>\n",
       "    </tr>\n",
       "  </thead>\n",
       "  <tbody>\n",
       "    <tr>\n",
       "      <th>304</th>\n",
       "      <td>3778</td>\n",
       "      <td>23.0</td>\n",
       "      <td>298.0</td>\n",
       "      <td>1121.0</td>\n",
       "      <td>80.812609</td>\n",
       "      <td>3.138463e-11</td>\n",
       "      <td>2.415871e-10</td>\n",
       "      <td>Medium</td>\n",
       "      <td>823.0</td>\n",
       "    </tr>\n",
       "    <tr>\n",
       "      <th>14</th>\n",
       "      <td>2448</td>\n",
       "      <td>39.0</td>\n",
       "      <td>308.0</td>\n",
       "      <td>1116.0</td>\n",
       "      <td>289.713333</td>\n",
       "      <td>4.141208e-19</td>\n",
       "      <td>5.267843e-18</td>\n",
       "      <td>Medium</td>\n",
       "      <td>808.0</td>\n",
       "    </tr>\n",
       "    <tr>\n",
       "      <th>318</th>\n",
       "      <td>3819</td>\n",
       "      <td>32.0</td>\n",
       "      <td>315.0</td>\n",
       "      <td>1120.0</td>\n",
       "      <td>256.511250</td>\n",
       "      <td>3.036861e-15</td>\n",
       "      <td>3.189078e-14</td>\n",
       "      <td>Medium</td>\n",
       "      <td>805.0</td>\n",
       "    </tr>\n",
       "    <tr>\n",
       "      <th>12</th>\n",
       "      <td>2327</td>\n",
       "      <td>17.0</td>\n",
       "      <td>280.0</td>\n",
       "      <td>1085.0</td>\n",
       "      <td>54.736471</td>\n",
       "      <td>2.820843e-08</td>\n",
       "      <td>1.698619e-07</td>\n",
       "      <td>Medium</td>\n",
       "      <td>805.0</td>\n",
       "    </tr>\n",
       "    <tr>\n",
       "      <th>908</th>\n",
       "      <td>4864</td>\n",
       "      <td>29.0</td>\n",
       "      <td>308.0</td>\n",
       "      <td>1108.0</td>\n",
       "      <td>205.071724</td>\n",
       "      <td>7.499811e-14</td>\n",
       "      <td>7.251688e-13</td>\n",
       "      <td>Medium</td>\n",
       "      <td>800.0</td>\n",
       "    </tr>\n",
       "    <tr>\n",
       "      <th>...</th>\n",
       "      <td>...</td>\n",
       "      <td>...</td>\n",
       "      <td>...</td>\n",
       "      <td>...</td>\n",
       "      <td>...</td>\n",
       "      <td>...</td>\n",
       "      <td>...</td>\n",
       "      <td>...</td>\n",
       "      <td>...</td>\n",
       "    </tr>\n",
       "    <tr>\n",
       "      <th>29</th>\n",
       "      <td>2514</td>\n",
       "      <td>65.0</td>\n",
       "      <td>935.0</td>\n",
       "      <td>1110.0</td>\n",
       "      <td>512.052000</td>\n",
       "      <td>3.130328e-02</td>\n",
       "      <td>6.554031e-01</td>\n",
       "      <td>Medium</td>\n",
       "      <td>175.0</td>\n",
       "    </tr>\n",
       "    <tr>\n",
       "      <th>699</th>\n",
       "      <td>4557</td>\n",
       "      <td>122.0</td>\n",
       "      <td>945.0</td>\n",
       "      <td>1115.0</td>\n",
       "      <td>376.505000</td>\n",
       "      <td>9.356664e-06</td>\n",
       "      <td>3.615068e-04</td>\n",
       "      <td>Medium</td>\n",
       "      <td>170.0</td>\n",
       "    </tr>\n",
       "    <tr>\n",
       "      <th>119</th>\n",
       "      <td>2641</td>\n",
       "      <td>71.0</td>\n",
       "      <td>949.0</td>\n",
       "      <td>1110.0</td>\n",
       "      <td>249.412958</td>\n",
       "      <td>3.548404e-02</td>\n",
       "      <td>8.096743e-01</td>\n",
       "      <td>Medium</td>\n",
       "      <td>161.0</td>\n",
       "    </tr>\n",
       "    <tr>\n",
       "      <th>1556</th>\n",
       "      <td>5713</td>\n",
       "      <td>68.0</td>\n",
       "      <td>560.0</td>\n",
       "      <td>711.0</td>\n",
       "      <td>254.512941</td>\n",
       "      <td>2.969513e-04</td>\n",
       "      <td>9.959192e-03</td>\n",
       "      <td>Medium</td>\n",
       "      <td>151.0</td>\n",
       "    </tr>\n",
       "    <tr>\n",
       "      <th>1482</th>\n",
       "      <td>5633</td>\n",
       "      <td>65.0</td>\n",
       "      <td>770.0</td>\n",
       "      <td>905.0</td>\n",
       "      <td>457.460462</td>\n",
       "      <td>6.226948e-02</td>\n",
       "      <td>1.587260e+00</td>\n",
       "      <td>Medium</td>\n",
       "      <td>135.0</td>\n",
       "    </tr>\n",
       "  </tbody>\n",
       "</table>\n",
       "<p>90 rows × 9 columns</p>\n",
       "</div>"
      ],
      "text/plain": [
       "      Store Number  frequency  recency       T  monetary_value       p_alive  \\\n",
       "304           3778       23.0    298.0  1121.0       80.812609  3.138463e-11   \n",
       "14            2448       39.0    308.0  1116.0      289.713333  4.141208e-19   \n",
       "318           3819       32.0    315.0  1120.0      256.511250  3.036861e-15   \n",
       "12            2327       17.0    280.0  1085.0       54.736471  2.820843e-08   \n",
       "908           4864       29.0    308.0  1108.0      205.071724  7.499811e-14   \n",
       "...            ...        ...      ...     ...             ...           ...   \n",
       "29            2514       65.0    935.0  1110.0      512.052000  3.130328e-02   \n",
       "699           4557      122.0    945.0  1115.0      376.505000  9.356664e-06   \n",
       "119           2641       71.0    949.0  1110.0      249.412958  3.548404e-02   \n",
       "1556          5713       68.0    560.0   711.0      254.512941  2.969513e-04   \n",
       "1482          5633       65.0    770.0   905.0      457.460462  6.226948e-02   \n",
       "\n",
       "      pred_frequency Store Segment  inactive  \n",
       "304     2.415871e-10        Medium     823.0  \n",
       "14      5.267843e-18        Medium     808.0  \n",
       "318     3.189078e-14        Medium     805.0  \n",
       "12      1.698619e-07        Medium     805.0  \n",
       "908     7.251688e-13        Medium     800.0  \n",
       "...              ...           ...       ...  \n",
       "29      6.554031e-01        Medium     175.0  \n",
       "699     3.615068e-04        Medium     170.0  \n",
       "119     8.096743e-01        Medium     161.0  \n",
       "1556    9.959192e-03        Medium     151.0  \n",
       "1482    1.587260e+00        Medium     135.0  \n",
       "\n",
       "[90 rows x 9 columns]"
      ]
     },
     "execution_count": 400,
     "metadata": {},
     "output_type": "execute_result"
    }
   ],
   "source": [
    "# Find the stores in the medium segments that have low alive probability (90 stores)\n",
    "MediumDead=summary_seg.loc[(summary_seg['p_alive'] <= 0.1) & (summary_seg['Store Segment']=='Medium')].sort_values(by=['inactive'],ascending=False)\n",
    "MediumDead"
   ]
  },
  {
   "cell_type": "code",
   "execution_count": 401,
   "metadata": {},
   "outputs": [
    {
     "data": {
      "text/html": [
       "<div>\n",
       "<style scoped>\n",
       "    .dataframe tbody tr th:only-of-type {\n",
       "        vertical-align: middle;\n",
       "    }\n",
       "\n",
       "    .dataframe tbody tr th {\n",
       "        vertical-align: top;\n",
       "    }\n",
       "\n",
       "    .dataframe thead th {\n",
       "        text-align: right;\n",
       "    }\n",
       "</style>\n",
       "<table border=\"1\" class=\"dataframe\">\n",
       "  <thead>\n",
       "    <tr style=\"text-align: right;\">\n",
       "      <th></th>\n",
       "      <th>Store Number</th>\n",
       "      <th>frequency</th>\n",
       "      <th>recency</th>\n",
       "      <th>T</th>\n",
       "      <th>monetary_value</th>\n",
       "      <th>p_alive</th>\n",
       "      <th>pred_frequency</th>\n",
       "      <th>Store Segment</th>\n",
       "      <th>inactive</th>\n",
       "    </tr>\n",
       "  </thead>\n",
       "  <tbody>\n",
       "    <tr>\n",
       "      <th>242</th>\n",
       "      <td>3612</td>\n",
       "      <td>129.0</td>\n",
       "      <td>1064.0</td>\n",
       "      <td>1117.0</td>\n",
       "      <td>215.950310</td>\n",
       "      <td>0.894777</td>\n",
       "      <td>36.462441</td>\n",
       "      <td>High</td>\n",
       "      <td>53.0</td>\n",
       "    </tr>\n",
       "    <tr>\n",
       "      <th>115</th>\n",
       "      <td>2633</td>\n",
       "      <td>253.0</td>\n",
       "      <td>1084.0</td>\n",
       "      <td>1121.0</td>\n",
       "      <td>8794.354387</td>\n",
       "      <td>0.659693</td>\n",
       "      <td>52.188247</td>\n",
       "      <td>High</td>\n",
       "      <td>37.0</td>\n",
       "    </tr>\n",
       "    <tr>\n",
       "      <th>272</th>\n",
       "      <td>3691</td>\n",
       "      <td>128.0</td>\n",
       "      <td>1087.0</td>\n",
       "      <td>1123.0</td>\n",
       "      <td>867.891094</td>\n",
       "      <td>0.985191</td>\n",
       "      <td>39.633994</td>\n",
       "      <td>High</td>\n",
       "      <td>36.0</td>\n",
       "    </tr>\n",
       "    <tr>\n",
       "      <th>65</th>\n",
       "      <td>2567</td>\n",
       "      <td>101.0</td>\n",
       "      <td>1080.0</td>\n",
       "      <td>1114.0</td>\n",
       "      <td>885.557030</td>\n",
       "      <td>0.993204</td>\n",
       "      <td>31.891780</td>\n",
       "      <td>High</td>\n",
       "      <td>34.0</td>\n",
       "    </tr>\n",
       "    <tr>\n",
       "      <th>775</th>\n",
       "      <td>4677</td>\n",
       "      <td>53.0</td>\n",
       "      <td>939.0</td>\n",
       "      <td>969.0</td>\n",
       "      <td>5548.702642</td>\n",
       "      <td>0.997020</td>\n",
       "      <td>19.522916</td>\n",
       "      <td>High</td>\n",
       "      <td>30.0</td>\n",
       "    </tr>\n",
       "    <tr>\n",
       "      <th>...</th>\n",
       "      <td>...</td>\n",
       "      <td>...</td>\n",
       "      <td>...</td>\n",
       "      <td>...</td>\n",
       "      <td>...</td>\n",
       "      <td>...</td>\n",
       "      <td>...</td>\n",
       "      <td>...</td>\n",
       "      <td>...</td>\n",
       "    </tr>\n",
       "    <tr>\n",
       "      <th>122</th>\n",
       "      <td>2644</td>\n",
       "      <td>130.0</td>\n",
       "      <td>1115.0</td>\n",
       "      <td>1115.0</td>\n",
       "      <td>1790.280154</td>\n",
       "      <td>0.999756</td>\n",
       "      <td>41.123076</td>\n",
       "      <td>High</td>\n",
       "      <td>0.0</td>\n",
       "    </tr>\n",
       "    <tr>\n",
       "      <th>22</th>\n",
       "      <td>2505</td>\n",
       "      <td>163.0</td>\n",
       "      <td>1075.0</td>\n",
       "      <td>1075.0</td>\n",
       "      <td>642.716503</td>\n",
       "      <td>0.999804</td>\n",
       "      <td>53.270619</td>\n",
       "      <td>High</td>\n",
       "      <td>0.0</td>\n",
       "    </tr>\n",
       "    <tr>\n",
       "      <th>23</th>\n",
       "      <td>2506</td>\n",
       "      <td>159.0</td>\n",
       "      <td>1116.0</td>\n",
       "      <td>1116.0</td>\n",
       "      <td>1635.378050</td>\n",
       "      <td>0.999799</td>\n",
       "      <td>50.130508</td>\n",
       "      <td>High</td>\n",
       "      <td>0.0</td>\n",
       "    </tr>\n",
       "    <tr>\n",
       "      <th>525</th>\n",
       "      <td>4291</td>\n",
       "      <td>102.0</td>\n",
       "      <td>1120.0</td>\n",
       "      <td>1120.0</td>\n",
       "      <td>497.633431</td>\n",
       "      <td>0.999692</td>\n",
       "      <td>32.244430</td>\n",
       "      <td>High</td>\n",
       "      <td>0.0</td>\n",
       "    </tr>\n",
       "    <tr>\n",
       "      <th>336</th>\n",
       "      <td>3868</td>\n",
       "      <td>153.0</td>\n",
       "      <td>1117.0</td>\n",
       "      <td>1117.0</td>\n",
       "      <td>750.789412</td>\n",
       "      <td>0.999791</td>\n",
       "      <td>48.217741</td>\n",
       "      <td>High</td>\n",
       "      <td>0.0</td>\n",
       "    </tr>\n",
       "  </tbody>\n",
       "</table>\n",
       "<p>160 rows × 9 columns</p>\n",
       "</div>"
      ],
      "text/plain": [
       "     Store Number  frequency  recency       T  monetary_value   p_alive  \\\n",
       "242          3612      129.0   1064.0  1117.0      215.950310  0.894777   \n",
       "115          2633      253.0   1084.0  1121.0     8794.354387  0.659693   \n",
       "272          3691      128.0   1087.0  1123.0      867.891094  0.985191   \n",
       "65           2567      101.0   1080.0  1114.0      885.557030  0.993204   \n",
       "775          4677       53.0    939.0   969.0     5548.702642  0.997020   \n",
       "..            ...        ...      ...     ...             ...       ...   \n",
       "122          2644      130.0   1115.0  1115.0     1790.280154  0.999756   \n",
       "22           2505      163.0   1075.0  1075.0      642.716503  0.999804   \n",
       "23           2506      159.0   1116.0  1116.0     1635.378050  0.999799   \n",
       "525          4291      102.0   1120.0  1120.0      497.633431  0.999692   \n",
       "336          3868      153.0   1117.0  1117.0      750.789412  0.999791   \n",
       "\n",
       "     pred_frequency Store Segment  inactive  \n",
       "242       36.462441          High      53.0  \n",
       "115       52.188247          High      37.0  \n",
       "272       39.633994          High      36.0  \n",
       "65        31.891780          High      34.0  \n",
       "775       19.522916          High      30.0  \n",
       "..              ...           ...       ...  \n",
       "122       41.123076          High       0.0  \n",
       "22        53.270619          High       0.0  \n",
       "23        50.130508          High       0.0  \n",
       "525       32.244430          High       0.0  \n",
       "336       48.217741          High       0.0  \n",
       "\n",
       "[160 rows x 9 columns]"
      ]
     },
     "execution_count": 401,
     "metadata": {},
     "output_type": "execute_result"
    }
   ],
   "source": [
    "# Find the stores in the high segments that have high alive probability\n",
    "summary_seg.loc[(summary_seg['p_alive'] >= 0.5) & (summary_seg['Store Segment']=='High')].sort_values(by=['inactive'],ascending=False)"
   ]
  },
  {
   "cell_type": "code",
   "execution_count": 402,
   "metadata": {},
   "outputs": [
    {
     "data": {
      "text/html": [
       "<div>\n",
       "<style scoped>\n",
       "    .dataframe tbody tr th:only-of-type {\n",
       "        vertical-align: middle;\n",
       "    }\n",
       "\n",
       "    .dataframe tbody tr th {\n",
       "        vertical-align: top;\n",
       "    }\n",
       "\n",
       "    .dataframe thead th {\n",
       "        text-align: right;\n",
       "    }\n",
       "</style>\n",
       "<table border=\"1\" class=\"dataframe\">\n",
       "  <thead>\n",
       "    <tr style=\"text-align: right;\">\n",
       "      <th></th>\n",
       "      <th>Store Number</th>\n",
       "      <th>frequency</th>\n",
       "      <th>recency</th>\n",
       "      <th>T</th>\n",
       "      <th>monetary_value</th>\n",
       "      <th>p_alive</th>\n",
       "      <th>pred_frequency</th>\n",
       "      <th>Store Segment</th>\n",
       "      <th>inactive</th>\n",
       "    </tr>\n",
       "  </thead>\n",
       "  <tbody>\n",
       "    <tr>\n",
       "      <th>1031</th>\n",
       "      <td>5076</td>\n",
       "      <td>2.0</td>\n",
       "      <td>293.0</td>\n",
       "      <td>856.0</td>\n",
       "      <td>23.755000</td>\n",
       "      <td>0.835959</td>\n",
       "      <td>1.274637</td>\n",
       "      <td>Medium</td>\n",
       "      <td>563.0</td>\n",
       "    </tr>\n",
       "    <tr>\n",
       "      <th>1360</th>\n",
       "      <td>5503</td>\n",
       "      <td>5.0</td>\n",
       "      <td>555.0</td>\n",
       "      <td>1094.0</td>\n",
       "      <td>167.288000</td>\n",
       "      <td>0.793649</td>\n",
       "      <td>1.712719</td>\n",
       "      <td>Medium</td>\n",
       "      <td>539.0</td>\n",
       "    </tr>\n",
       "    <tr>\n",
       "      <th>1181</th>\n",
       "      <td>5277</td>\n",
       "      <td>5.0</td>\n",
       "      <td>545.0</td>\n",
       "      <td>1024.0</td>\n",
       "      <td>154.860000</td>\n",
       "      <td>0.840969</td>\n",
       "      <td>1.934622</td>\n",
       "      <td>Medium</td>\n",
       "      <td>479.0</td>\n",
       "    </tr>\n",
       "    <tr>\n",
       "      <th>754</th>\n",
       "      <td>4647</td>\n",
       "      <td>3.0</td>\n",
       "      <td>448.0</td>\n",
       "      <td>920.0</td>\n",
       "      <td>56.910000</td>\n",
       "      <td>0.906997</td>\n",
       "      <td>1.631438</td>\n",
       "      <td>Medium</td>\n",
       "      <td>472.0</td>\n",
       "    </tr>\n",
       "    <tr>\n",
       "      <th>1167</th>\n",
       "      <td>5261</td>\n",
       "      <td>10.0</td>\n",
       "      <td>714.0</td>\n",
       "      <td>1096.0</td>\n",
       "      <td>155.196000</td>\n",
       "      <td>0.782969</td>\n",
       "      <td>2.929473</td>\n",
       "      <td>Medium</td>\n",
       "      <td>382.0</td>\n",
       "    </tr>\n",
       "    <tr>\n",
       "      <th>...</th>\n",
       "      <td>...</td>\n",
       "      <td>...</td>\n",
       "      <td>...</td>\n",
       "      <td>...</td>\n",
       "      <td>...</td>\n",
       "      <td>...</td>\n",
       "      <td>...</td>\n",
       "      <td>...</td>\n",
       "      <td>...</td>\n",
       "    </tr>\n",
       "    <tr>\n",
       "      <th>1582</th>\n",
       "      <td>5740</td>\n",
       "      <td>30.0</td>\n",
       "      <td>630.0</td>\n",
       "      <td>630.0</td>\n",
       "      <td>210.424000</td>\n",
       "      <td>0.999069</td>\n",
       "      <td>17.117894</td>\n",
       "      <td>Medium</td>\n",
       "      <td>0.0</td>\n",
       "    </tr>\n",
       "    <tr>\n",
       "      <th>326</th>\n",
       "      <td>3833</td>\n",
       "      <td>108.0</td>\n",
       "      <td>1117.0</td>\n",
       "      <td>1117.0</td>\n",
       "      <td>269.195000</td>\n",
       "      <td>0.999709</td>\n",
       "      <td>34.197548</td>\n",
       "      <td>Medium</td>\n",
       "      <td>0.0</td>\n",
       "    </tr>\n",
       "    <tr>\n",
       "      <th>325</th>\n",
       "      <td>3831</td>\n",
       "      <td>94.0</td>\n",
       "      <td>1107.0</td>\n",
       "      <td>1107.0</td>\n",
       "      <td>171.618511</td>\n",
       "      <td>0.999668</td>\n",
       "      <td>30.096326</td>\n",
       "      <td>Medium</td>\n",
       "      <td>0.0</td>\n",
       "    </tr>\n",
       "    <tr>\n",
       "      <th>324</th>\n",
       "      <td>3830</td>\n",
       "      <td>119.0</td>\n",
       "      <td>1120.0</td>\n",
       "      <td>1120.0</td>\n",
       "      <td>315.871765</td>\n",
       "      <td>0.999734</td>\n",
       "      <td>37.527221</td>\n",
       "      <td>Medium</td>\n",
       "      <td>0.0</td>\n",
       "    </tr>\n",
       "    <tr>\n",
       "      <th>1862</th>\n",
       "      <td>6108</td>\n",
       "      <td>1.0</td>\n",
       "      <td>7.0</td>\n",
       "      <td>7.0</td>\n",
       "      <td>342.000000</td>\n",
       "      <td>0.994908</td>\n",
       "      <td>23.995164</td>\n",
       "      <td>Medium</td>\n",
       "      <td>0.0</td>\n",
       "    </tr>\n",
       "  </tbody>\n",
       "</table>\n",
       "<p>1539 rows × 9 columns</p>\n",
       "</div>"
      ],
      "text/plain": [
       "      Store Number  frequency  recency       T  monetary_value   p_alive  \\\n",
       "1031          5076        2.0    293.0   856.0       23.755000  0.835959   \n",
       "1360          5503        5.0    555.0  1094.0      167.288000  0.793649   \n",
       "1181          5277        5.0    545.0  1024.0      154.860000  0.840969   \n",
       "754           4647        3.0    448.0   920.0       56.910000  0.906997   \n",
       "1167          5261       10.0    714.0  1096.0      155.196000  0.782969   \n",
       "...            ...        ...      ...     ...             ...       ...   \n",
       "1582          5740       30.0    630.0   630.0      210.424000  0.999069   \n",
       "326           3833      108.0   1117.0  1117.0      269.195000  0.999709   \n",
       "325           3831       94.0   1107.0  1107.0      171.618511  0.999668   \n",
       "324           3830      119.0   1120.0  1120.0      315.871765  0.999734   \n",
       "1862          6108        1.0      7.0     7.0      342.000000  0.994908   \n",
       "\n",
       "      pred_frequency Store Segment  inactive  \n",
       "1031        1.274637        Medium     563.0  \n",
       "1360        1.712719        Medium     539.0  \n",
       "1181        1.934622        Medium     479.0  \n",
       "754         1.631438        Medium     472.0  \n",
       "1167        2.929473        Medium     382.0  \n",
       "...              ...           ...       ...  \n",
       "1582       17.117894        Medium       0.0  \n",
       "326        34.197548        Medium       0.0  \n",
       "325        30.096326        Medium       0.0  \n",
       "324        37.527221        Medium       0.0  \n",
       "1862       23.995164        Medium       0.0  \n",
       "\n",
       "[1539 rows x 9 columns]"
      ]
     },
     "execution_count": 402,
     "metadata": {},
     "output_type": "execute_result"
    }
   ],
   "source": [
    "# Find the stores in the medium segments that have high alive probability\n",
    "summary_seg.loc[(summary_seg['p_alive'] >= 0.5) & (summary_seg['Store Segment']=='Medium')].sort_values(by=['inactive'],ascending=False)"
   ]
  },
  {
   "cell_type": "markdown",
   "metadata": {},
   "source": [
    "The predicted probabilities along with the predicted segements will be used:\n",
    "- to identify the profitable, highly-profitable and non-profitable stores\n",
    "- to optimize the acqusition spending (spend more on marketing campaigns at highly profitable stores and less on low profitable stores)\n",
    "- to measure the impact of a marketing campaign (repeat the same stratigies for highly profitable stores, or change the strategy for low profitable stores)"
   ]
  },
  {
   "cell_type": "markdown",
   "metadata": {},
   "source": [
    "We can get the Customer Lifetime Value by predicting the sales using Gamma-Gamma model. However, The frequency and the monetary value are moderately correalated and this model my not be accurate enough."
   ]
  },
  {
   "cell_type": "code",
   "execution_count": 95,
   "metadata": {},
   "outputs": [
    {
     "data": {
      "text/html": [
       "<div>\n",
       "<style scoped>\n",
       "    .dataframe tbody tr th:only-of-type {\n",
       "        vertical-align: middle;\n",
       "    }\n",
       "\n",
       "    .dataframe tbody tr th {\n",
       "        vertical-align: top;\n",
       "    }\n",
       "\n",
       "    .dataframe thead th {\n",
       "        text-align: right;\n",
       "    }\n",
       "</style>\n",
       "<table border=\"1\" class=\"dataframe\">\n",
       "  <thead>\n",
       "    <tr style=\"text-align: right;\">\n",
       "      <th></th>\n",
       "      <th>frequency</th>\n",
       "      <th>monetary_value</th>\n",
       "    </tr>\n",
       "  </thead>\n",
       "  <tbody>\n",
       "    <tr>\n",
       "      <th>frequency</th>\n",
       "      <td>1.000000</td>\n",
       "      <td>0.444004</td>\n",
       "    </tr>\n",
       "    <tr>\n",
       "      <th>monetary_value</th>\n",
       "      <td>0.444004</td>\n",
       "      <td>1.000000</td>\n",
       "    </tr>\n",
       "  </tbody>\n",
       "</table>\n",
       "</div>"
      ],
      "text/plain": [
       "                frequency  monetary_value\n",
       "frequency        1.000000        0.444004\n",
       "monetary_value   0.444004        1.000000"
      ]
     },
     "execution_count": 95,
     "metadata": {},
     "output_type": "execute_result"
    }
   ],
   "source": [
    "# check if the frequency and the monetary value are correlated in the test set\n",
    "summary[['frequency','monetary_value']].corr()"
   ]
  },
  {
   "cell_type": "code",
   "execution_count": 405,
   "metadata": {},
   "outputs": [
    {
     "data": {
      "text/plain": [
       "(2079, 5)"
      ]
     },
     "execution_count": 405,
     "metadata": {},
     "output_type": "execute_result"
    }
   ],
   "source": [
    "segments.shape"
   ]
  },
  {
   "cell_type": "code",
   "execution_count": null,
   "metadata": {},
   "outputs": [],
   "source": []
  }
 ],
 "metadata": {
  "kernelspec": {
   "display_name": "Python 3",
   "language": "python",
   "name": "python3"
  },
  "language_info": {
   "codemirror_mode": {
    "name": "ipython",
    "version": 3
   },
   "file_extension": ".py",
   "mimetype": "text/x-python",
   "name": "python",
   "nbconvert_exporter": "python",
   "pygments_lexer": "ipython3",
   "version": "3.8.5"
  }
 },
 "nbformat": 4,
 "nbformat_minor": 4
}
